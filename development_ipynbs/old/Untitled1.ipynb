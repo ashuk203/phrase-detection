{
 "cells": [
  {
   "cell_type": "code",
   "execution_count": 1,
   "metadata": {},
   "outputs": [],
   "source": [
    "import wikipedia\n",
    "import urllib\n",
    "from urllib.error import HTTPError\n",
    "import difflib\n",
    "import spacy\n",
    "nlp = spacy.load(\"en_core_web_md\")"
   ]
  },
  {
   "cell_type": "code",
   "execution_count": 2,
   "metadata": {},
   "outputs": [],
   "source": [
    "words_set = set(['autonomous robotics','computational intelligence','multi-objective optimization','boolean functions','geometric networks','scientific computing','agent-based modeling','spatial databases','markov decision','geo-social networks','deductive databases','topological logic','embedded systems design','greedy algorithms','factorization algorithm','discrete-event modeling','query processing','intellectual property', 'database systems','simulation model','combinatorial auctions','discrete-time mip','interval matrices','sentiment analysis','collaborative networks','semi-infinite optimization','game theory','content-incentive-usability framework','data aggregation','silico evaluation','duality approach','bayesian statistics','artificial vision','high-performance computing','branch-and-bound decomposition','coherence analysis','cooperative relay','spatio-temporal databases','stochastic programming','mobile computing','hartree-fock method','data reconciliation','neural networks','temporal databases','recommender system','social robotics','human-robot interaction','time-evolving graphs','database retrieval','task scheduling','simulation-based optimization','distributed sensor systems','intrusion detection','document retrieval','information retrieval'])"
   ]
  },
  {
   "cell_type": "code",
   "execution_count": 26,
   "metadata": {},
   "outputs": [
    {
     "name": "stderr",
     "output_type": "stream",
     "text": [
      "/Users/diproray/miniconda3/lib/python3.6/runpy.py:193: UserWarning: [W008] Evaluating Doc.similarity based on empty vectors.\n",
      "  \"__main__\", mod_spec)\n",
      "/Users/diproray/miniconda3/lib/python3.6/runpy.py:193: UserWarning: [W008] Evaluating Doc.similarity based on empty vectors.\n",
      "  \"__main__\", mod_spec)\n",
      "/Users/diproray/miniconda3/lib/python3.6/runpy.py:193: UserWarning: [W008] Evaluating Doc.similarity based on empty vectors.\n",
      "  \"__main__\", mod_spec)\n",
      "/Users/diproray/miniconda3/lib/python3.6/runpy.py:193: UserWarning: [W008] Evaluating Doc.similarity based on empty vectors.\n",
      "  \"__main__\", mod_spec)\n",
      "/Users/diproray/miniconda3/lib/python3.6/runpy.py:193: UserWarning: [W008] Evaluating Doc.similarity based on empty vectors.\n",
      "  \"__main__\", mod_spec)\n",
      "/Users/diproray/miniconda3/lib/python3.6/runpy.py:193: UserWarning: [W008] Evaluating Doc.similarity based on empty vectors.\n",
      "  \"__main__\", mod_spec)\n",
      "/Users/diproray/miniconda3/lib/python3.6/runpy.py:193: UserWarning: [W008] Evaluating Doc.similarity based on empty vectors.\n",
      "  \"__main__\", mod_spec)\n",
      "/Users/diproray/miniconda3/lib/python3.6/runpy.py:193: UserWarning: [W008] Evaluating Doc.similarity based on empty vectors.\n",
      "  \"__main__\", mod_spec)\n",
      "/Users/diproray/miniconda3/lib/python3.6/runpy.py:193: UserWarning: [W008] Evaluating Doc.similarity based on empty vectors.\n",
      "  \"__main__\", mod_spec)\n",
      "/Users/diproray/miniconda3/lib/python3.6/runpy.py:193: UserWarning: [W008] Evaluating Doc.similarity based on empty vectors.\n",
      "  \"__main__\", mod_spec)\n",
      "/Users/diproray/miniconda3/lib/python3.6/runpy.py:193: UserWarning: [W008] Evaluating Doc.similarity based on empty vectors.\n",
      "  \"__main__\", mod_spec)\n",
      "/Users/diproray/miniconda3/lib/python3.6/runpy.py:193: UserWarning: [W008] Evaluating Doc.similarity based on empty vectors.\n",
      "  \"__main__\", mod_spec)\n",
      "/Users/diproray/miniconda3/lib/python3.6/runpy.py:193: UserWarning: [W008] Evaluating Doc.similarity based on empty vectors.\n",
      "  \"__main__\", mod_spec)\n",
      "/Users/diproray/miniconda3/lib/python3.6/runpy.py:193: UserWarning: [W008] Evaluating Doc.similarity based on empty vectors.\n",
      "  \"__main__\", mod_spec)\n",
      "/Users/diproray/miniconda3/lib/python3.6/runpy.py:193: UserWarning: [W008] Evaluating Doc.similarity based on empty vectors.\n",
      "  \"__main__\", mod_spec)\n",
      "/Users/diproray/miniconda3/lib/python3.6/runpy.py:193: UserWarning: [W008] Evaluating Doc.similarity based on empty vectors.\n",
      "  \"__main__\", mod_spec)\n",
      "/Users/diproray/miniconda3/lib/python3.6/runpy.py:193: UserWarning: [W008] Evaluating Doc.similarity based on empty vectors.\n",
      "  \"__main__\", mod_spec)\n",
      "/Users/diproray/miniconda3/lib/python3.6/runpy.py:193: UserWarning: [W008] Evaluating Doc.similarity based on empty vectors.\n",
      "  \"__main__\", mod_spec)\n",
      "/Users/diproray/miniconda3/lib/python3.6/runpy.py:193: UserWarning: [W008] Evaluating Doc.similarity based on empty vectors.\n",
      "  \"__main__\", mod_spec)\n",
      "/Users/diproray/miniconda3/lib/python3.6/runpy.py:193: UserWarning: [W008] Evaluating Doc.similarity based on empty vectors.\n",
      "  \"__main__\", mod_spec)\n",
      "/Users/diproray/miniconda3/lib/python3.6/runpy.py:193: UserWarning: [W008] Evaluating Doc.similarity based on empty vectors.\n",
      "  \"__main__\", mod_spec)\n",
      "/Users/diproray/miniconda3/lib/python3.6/runpy.py:193: UserWarning: [W008] Evaluating Doc.similarity based on empty vectors.\n",
      "  \"__main__\", mod_spec)\n",
      "/Users/diproray/miniconda3/lib/python3.6/runpy.py:193: UserWarning: [W008] Evaluating Doc.similarity based on empty vectors.\n",
      "  \"__main__\", mod_spec)\n"
     ]
    }
   ],
   "source": [
    "maybe = []\n",
    "for word in words_set:\n",
    "    query = word.replace(\"-\", \" \")\n",
    "    query_tok = nlp(query)\n",
    "    values = []\n",
    "    for result in wikipedia.search(query):\n",
    "        result_tok = nlp(result.lower())\n",
    "        if len(result_tok) != 0:\n",
    "            d = result_tok.similarity(query_tok) * 100 \n",
    "            values.append(d)\n",
    "    maybe.append((word, max(values)))"
   ]
  },
  {
   "cell_type": "code",
   "execution_count": 27,
   "metadata": {},
   "outputs": [
    {
     "data": {
      "text/plain": [
       "[('geo-social networks', 78.2648236477604),\n",
       " ('social robotics', 91.77448575064909),\n",
       " ('information retrieval', 100.0),\n",
       " ('simulation model', 88.9904084101937),\n",
       " ('intrusion detection', 92.58983627566039),\n",
       " ('query processing', 77.29927722159033),\n",
       " ('content-incentive-usability framework', 70.25368810640728),\n",
       " ('simulation-based optimization', 93.84561237167951),\n",
       " ('silico evaluation', 82.13600243418534),\n",
       " ('spatial databases', 95.8534799562357),\n",
       " ('document retrieval', 100.0),\n",
       " ('branch-and-bound decomposition', 73.15109856893194),\n",
       " ('hartree-fock method', 90.42066647126468),\n",
       " ('discrete-event modeling', 85.14138964478941),\n",
       " ('scientific computing', 89.00484596828723),\n",
       " ('task scheduling', 86.84823821320077),\n",
       " ('boolean functions', 96.43127752616996),\n",
       " ('deductive databases', 94.61389955382398),\n",
       " ('time-evolving graphs', 74.16422666531635),\n",
       " ('bayesian statistics', 100.0),\n",
       " ('combinatorial auctions', 100.00000405002771),\n",
       " ('temporal databases', 94.87141640614605),\n",
       " ('factorization algorithm', 84.62026884822582),\n",
       " ('markov decision', 91.97485494922724),\n",
       " ('interval matrices', 78.20090430100959),\n",
       " ('topological logic', 80.76431033822696),\n",
       " ('cooperative relay', 66.62557638939376),\n",
       " ('duality approach', 81.98980147918606),\n",
       " ('high-performance computing', 94.18221910362715),\n",
       " ('semi-infinite optimization', 81.15694236241578),\n",
       " ('spatio-temporal databases', 62.655507929784136),\n",
       " ('human-robot interaction', 96.6472544694275),\n",
       " ('collaborative networks', 94.86576754309286),\n",
       " ('intellectual property', 100.0),\n",
       " ('database systems', 90.58039690969007),\n",
       " ('geometric networks', 100.0),\n",
       " ('artificial vision', 100.0),\n",
       " ('stochastic programming', 100.0),\n",
       " ('greedy algorithms', 96.15249439284833),\n",
       " ('recommender system', 100.0),\n",
       " ('sentiment analysis', 100.0),\n",
       " ('agent-based modeling', 86.92954339499973),\n",
       " ('autonomous robotics', 93.5734078253645),\n",
       " ('multi-objective optimization', 92.53215508969058),\n",
       " ('neural networks', 95.8665849222329),\n",
       " ('game theory', 100.0),\n",
       " ('data reconciliation', 90.52353913150006),\n",
       " ('distributed sensor systems', 85.01044794277598),\n",
       " ('data aggregation', 100.0),\n",
       " ('discrete-time mip', 55.65792365204838),\n",
       " ('computational intelligence', 100.0),\n",
       " ('embedded systems design', 93.52385440633472),\n",
       " ('database retrieval', 89.1086101232351),\n",
       " ('mobile computing', 100.0),\n",
       " ('coherence analysis', 82.7941988851565)]"
      ]
     },
     "execution_count": 27,
     "metadata": {},
     "output_type": "execute_result"
    }
   ],
   "source": [
    "second = [pair[1] for pair in maybe]\n",
    "maybe"
   ]
  },
  {
   "cell_type": "code",
   "execution_count": 28,
   "metadata": {},
   "outputs": [
    {
     "data": {
      "text/plain": [
       "['Spatiotemporal database',\n",
       " 'Spatial database',\n",
       " 'List of neuroscience databases',\n",
       " 'HHCode',\n",
       " 'Carpe diem',\n",
       " 'GeoMesa',\n",
       " 'Eugene Salamin (mathematician)',\n",
       " 'Animation database',\n",
       " 'MOVIE Index',\n",
       " 'Coverage data']"
      ]
     },
     "execution_count": 28,
     "metadata": {},
     "output_type": "execute_result"
    }
   ],
   "source": [
    "wikipedia.search('spatio temporal databases')"
   ]
  },
  {
   "cell_type": "code",
   "execution_count": 24,
   "metadata": {},
   "outputs": [],
   "source": [
    "tok1 = nlp('spatio temporal databases')\n",
    "tok2 = nlp('spatiotemporal database')"
   ]
  },
  {
   "cell_type": "code",
   "execution_count": 25,
   "metadata": {},
   "outputs": [
    {
     "data": {
      "text/plain": [
       "0.6265550792978414"
      ]
     },
     "execution_count": 25,
     "metadata": {},
     "output_type": "execute_result"
    }
   ],
   "source": [
    "tok1.similarity(tok2)"
   ]
  },
  {
   "cell_type": "code",
   "execution_count": 8,
   "metadata": {},
   "outputs": [
    {
     "name": "stdout",
     "output_type": "stream",
     "text": [
      "Lagrange multiplier 32.56447252877795\n",
      "Test functions for optimization 51.3710104659162\n",
      "William Karush 1.9383900540632901\n",
      "List of optimization software 41.479275541640675\n",
      "Mathematical optimization 63.695024037179756\n",
      "MCS algorithm 41.47024859454303\n",
      "Nonlinear programming 64.08989345812148\n",
      "Geodesic 47.45876787676362\n",
      "Newton's method in optimization 45.79611849895775\n",
      "Gradient descent 38.84403813472546\n"
     ]
    }
   ],
   "source": [
    "word = 'constrained minima'\n",
    "query = word.replace(\"-\", \" \")\n",
    "query_tok = nlp(query)\n",
    "values = []\n",
    "for result in wikipedia.search(query):\n",
    "    result_tok = nlp(result.lower())\n",
    "    if len(result_tok) != 0:\n",
    "        d = result_tok.similarity(query_tok) * 100 \n",
    "        print(result + \" \" + str(d))"
   ]
  },
  {
   "cell_type": "code",
   "execution_count": 33,
   "metadata": {},
   "outputs": [
    {
     "data": {
      "text/plain": [
       "\"{'post malone', 'wow'}\""
      ]
     },
     "execution_count": 33,
     "metadata": {},
     "output_type": "execute_result"
    }
   ],
   "source": [
    "str(set(['wow', 'post malone']))"
   ]
  },
  {
   "cell_type": "code",
   "execution_count": null,
   "metadata": {},
   "outputs": [],
   "source": []
  }
 ],
 "metadata": {
  "kernelspec": {
   "display_name": "Python 3",
   "language": "python",
   "name": "python3"
  },
  "language_info": {
   "codemirror_mode": {
    "name": "ipython",
    "version": 3
   },
   "file_extension": ".py",
   "mimetype": "text/x-python",
   "name": "python",
   "nbconvert_exporter": "python",
   "pygments_lexer": "ipython3",
   "version": "3.6.7"
  }
 },
 "nbformat": 4,
 "nbformat_minor": 2
}
