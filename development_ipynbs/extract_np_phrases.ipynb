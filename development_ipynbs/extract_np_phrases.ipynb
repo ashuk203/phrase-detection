{
 "cells": [
  {
   "cell_type": "code",
   "execution_count": 3,
   "metadata": {},
   "outputs": [],
   "source": [
    "import spacy\n",
    "nlp = spacy.load(\"en_core_web_md\")"
   ]
  },
  {
   "cell_type": "code",
   "execution_count": 11,
   "metadata": {},
   "outputs": [],
   "source": [
    "import wikipedia\n",
    "import urllib\n",
    "from urllib.error import HTTPError\n",
    "import difflib\n",
    "import datetime"
   ]
  },
  {
   "cell_type": "code",
   "execution_count": 6,
   "metadata": {},
   "outputs": [],
   "source": [
    "doc = nlp(u'dual recurrent attention units for visual question answering\\nwe propose an architecture for vqa which utilizes recurrent layers to generate visual and textual attention. the memory characteristic of the proposed recurrent attention units offers a rich joint embedding of visual and textual features and enables the model to reason relations between several parts of the image and question. our single model outperforms the first place winner on the vqa 1.0 dataset performs within margin to the current state of the art ensemble model. we also experiment with replacing attention mechanisms in other state of the art models with our implementation and show increased accuracy. in both cases our recurrent attention mechanism improves performance in tasks requiring sequential or relational reasoning on the vqa dataset. sequential short text classification with recurrent and convolutional neural networks\\n recent approaches based on artificial neural networks anns have shown promising results for short text classification. however many short texts occur in sequences e.g. sentences in a document or utterances in a dialog and most existing ann based systems do not leverage the preceding short texts when classifying a subsequent one. in this work we present a model based on recurrent neural networks and convolutional neural networks that incorporates the preceding short texts. our model achieves state of the art results on three different datasets for dialog act prediction.')"
   ]
  },
  {
   "cell_type": "code",
   "execution_count": 8,
   "metadata": {},
   "outputs": [],
   "source": [
    "np_phrases = set()\n",
    "for np in doc.noun_chunks:\n",
    "    np_phrases.add(np.text)"
   ]
  },
  {
   "cell_type": "code",
   "execution_count": 12,
   "metadata": {},
   "outputs": [],
   "source": [
    "def get_sets(words_set, mode):\n",
    "    good = set()\n",
    "    bad = set()\n",
    "    very_bad = set()\n",
    "    \n",
    "    prefix = \"prdr_\"\n",
    "    if mode == 0:\n",
    "        prefix = \"prdr_\"\n",
    "    elif mode == 1:\n",
    "        prefix = \"ap_\"      \n",
    "    \n",
    "    f = open(prefix + datetime.datetime.now().strftime(\"%Y_%m_%d_%H_%M_%S\") + \".txt\", 'w+')\n",
    "    if mode == 0:\n",
    "        f.write(\"PR Dual Rank Logs:\\n\")\n",
    "    elif mode == 1:\n",
    "        f.write(\"Auto Phrase Logs:\\n\")\n",
    "    \n",
    "    for i, word in enumerate(words_set):\n",
    "        try:\n",
    "            url_suffix = (word.replace(\" \", \"_\").replace(\"-\", \"_\")).capitalize()\n",
    "            url = \"https://en.wikipedia.org/wiki/\" + url_suffix\n",
    "            status = 0\n",
    "            try:\n",
    "                code = urllib.request.urlopen(url).getcode()\n",
    "                if code == 200:\n",
    "                    good.add(word)\n",
    "                    status = 1\n",
    "            except HTTPError:\n",
    "#                 bad.add(word)\n",
    "#             print(\"Ran \" + str(i + 1) + \"... Keyword: \" + word + \" URL: \" + url + \" Status: \" + str(status))\n",
    "                if status == 0 and word[-1] == 's' and len(word.split(\" \")) > 1:\n",
    "                    url = url[:-1]\n",
    "                    try:\n",
    "                        code = urllib.request.urlopen(url).getcode()\n",
    "                        if code == 200:\n",
    "                            good.add(word)\n",
    "                            status = 1\n",
    "                    except HTTPError:\n",
    "                        bad.add(word)\n",
    "            print(\"Ran \" + str(i + 1) + \"... Keyword: \" + word + \" URL: \" + url + \" Status: \" + str(status))\n",
    "            f.write(\"Ran \" + str(i + 1) + \"... Keyword: \" + word + \" URL: \" + url + \" Status: \" + str(status) + \"\\n\")\n",
    "        except:\n",
    "            very_bad.add(word)\n",
    "    \n",
    "    probably_good = set()\n",
    "    for word in words_set.difference(good):\n",
    "        query = word.replace(\"-\", \" \").lower()\n",
    "        query_tok = nlp(query)\n",
    "        values = []\n",
    "        for result in wikipedia.search(query):\n",
    "            result_tok = nlp(result.lower().replace(\"-\", \" \"))\n",
    "            d = result_tok.similarity(query_tok) * 100 \n",
    "            values.append(d)\n",
    "        if len(values) != 0:\n",
    "            print(\"Rechecking... \" + \"Keyword: \" + word + \" Max Similarity: \" + str(max(values)))\n",
    "            f.write(\"Rechecking... \" + \"Keyword: \" + word + \" Max Similarity: \" + str(max(values)) + \"\\n\")\n",
    "            if max(values) > 80.0:\n",
    "                probably_good.add(word)\n",
    "    \n",
    "    f.write(\"Good Set:\\n\" + str(good) + \"\\n\")\n",
    "    f.write(\"Probably Good Set:\\n\" + str(probably_good) + \"\\n\")\n",
    "    \n",
    "    f.close()\n",
    "    \n",
    "    return good, probably_good"
   ]
  },
  {
   "cell_type": "code",
   "execution_count": 13,
   "metadata": {},
   "outputs": [
    {
     "name": "stdout",
     "output_type": "stream",
     "text": [
      "Ran 1... Keyword: attention mechanisms URL: https://en.wikipedia.org/wiki/Attention_mechanism Status: 0\n",
      "Ran 2... Keyword: we URL: https://en.wikipedia.org/wiki/We Status: 1\n",
      "Ran 3... Keyword: artificial neural networks URL: https://en.wikipedia.org/wiki/Artificial_neural_networks Status: 1\n",
      "Ran 4... Keyword: the current state URL: https://en.wikipedia.org/wiki/The_current_state Status: 0\n",
      "Ran 5... Keyword: sequences URL: https://en.wikipedia.org/wiki/Sequences Status: 1\n",
      "Ran 6... Keyword: the preceding short texts URL: https://en.wikipedia.org/wiki/The_preceding_short_text Status: 0\n",
      "Ran 7... Keyword: a subsequent one URL: https://en.wikipedia.org/wiki/A_subsequent_one Status: 0\n",
      "Ran 8... Keyword: the proposed recurrent attention units URL: https://en.wikipedia.org/wiki/The_proposed_recurrent_attention_unit Status: 0\n",
      "Ran 9... Keyword: the art results URL: https://en.wikipedia.org/wiki/The_art_result Status: 0\n",
      "Ran 10... Keyword: show URL: https://en.wikipedia.org/wiki/Show Status: 1\n",
      "Ran 11... Keyword: our recurrent attention mechanism URL: https://en.wikipedia.org/wiki/Our_recurrent_attention_mechanism Status: 0\n",
      "Ran 12... Keyword: e.g. sentences URL: https://en.wikipedia.org/wiki/E.g._sentence Status: 0\n",
      "Ran 13... Keyword: a rich joint embedding URL: https://en.wikipedia.org/wiki/A_rich_joint_embedding Status: 0\n",
      "Ran 14... Keyword: this work URL: https://en.wikipedia.org/wiki/This_work Status: 0\n",
      "Ran 15... Keyword: relations URL: https://en.wikipedia.org/wiki/Relations Status: 1\n",
      "Ran 16... Keyword: utterances URL: https://en.wikipedia.org/wiki/Utterances Status: 1\n",
      "Ran 17... Keyword: vqa URL: https://en.wikipedia.org/wiki/Vqa Status: 0\n",
      "Ran 18... Keyword: sequential short text classification URL: https://en.wikipedia.org/wiki/Sequential_short_text_classification Status: 0\n",
      "Ran 19... Keyword: results URL: https://en.wikipedia.org/wiki/Results Status: 1\n",
      "Ran 20... Keyword: both cases URL: https://en.wikipedia.org/wiki/Both_case Status: 0\n",
      "Ran 21... Keyword: our single model outperforms URL: https://en.wikipedia.org/wiki/Our_single_model_outperform Status: 0\n",
      "Ran 22... Keyword: margin URL: https://en.wikipedia.org/wiki/Margin Status: 1\n",
      "Ran 23... Keyword: increased accuracy URL: https://en.wikipedia.org/wiki/Increased_accuracy Status: 0\n",
      "Ran 24... Keyword: many short texts URL: https://en.wikipedia.org/wiki/Many_short_text Status: 0\n",
      "Ran 25... Keyword: convolutional neural networks URL: https://en.wikipedia.org/wiki/Convolutional_neural_networks Status: 1\n",
      "Ran 26... Keyword: state URL: https://en.wikipedia.org/wiki/State Status: 1\n",
      "Ran 27... Keyword: the model URL: https://en.wikipedia.org/wiki/The_model Status: 0\n",
      "Ran 28... Keyword: visual and textual attention URL: https://en.wikipedia.org/wiki/Visual_and_textual_attention Status: 0\n",
      "Ran 29... Keyword: dual recurrent attention units URL: https://en.wikipedia.org/wiki/Dual_recurrent_attention_unit Status: 0\n",
      "Ran 30... Keyword: the art models URL: https://en.wikipedia.org/wiki/The_art_model Status: 0\n",
      "Ran 31... Keyword: a document URL: https://en.wikipedia.org/wiki/A_document Status: 0\n",
      "Ran 32... Keyword: a model URL: https://en.wikipedia.org/wiki/A_model Status: 0\n",
      "Ran 33... Keyword: a dialog URL: https://en.wikipedia.org/wiki/A_dialog Status: 0\n",
      "Ran 34... Keyword: visual and textual features URL: https://en.wikipedia.org/wiki/Visual_and_textual_feature Status: 0\n",
      "Ran 35... Keyword: tasks URL: https://en.wikipedia.org/wiki/Tasks Status: 1\n",
      "Ran 36... Keyword: other state URL: https://en.wikipedia.org/wiki/Other_state Status: 0\n",
      "Ran 37... Keyword: dialog act prediction URL: https://en.wikipedia.org/wiki/Dialog_act_prediction Status: 0\n",
      "Ran 38... Keyword: the first place winner URL: https://en.wikipedia.org/wiki/The_first_place_winner Status: 0\n",
      "Ran 39... Keyword: the art ensemble model URL: https://en.wikipedia.org/wiki/The_art_ensemble_model Status: 0\n",
      "Ran 40... Keyword: question URL: https://en.wikipedia.org/wiki/Question Status: 1\n",
      "Ran 41... Keyword: short text classification URL: https://en.wikipedia.org/wiki/Short_text_classification Status: 0\n",
      "Ran 42... Keyword: most existing ann based systems URL: https://en.wikipedia.org/wiki/Most_existing_ann_based_system Status: 0\n",
      "Ran 43... Keyword: our model URL: https://en.wikipedia.org/wiki/Our_model Status: 0\n",
      "Ran 44... Keyword: several parts URL: https://en.wikipedia.org/wiki/Several_part Status: 0\n",
      "Ran 45... Keyword: the image URL: https://en.wikipedia.org/wiki/The_image Status: 0\n",
      "Ran 46... Keyword: recent approaches URL: https://en.wikipedia.org/wiki/Recent_approache Status: 0\n",
      "Ran 47... Keyword: recurrent neural networks URL: https://en.wikipedia.org/wiki/Recurrent_neural_networks Status: 1\n",
      "Ran 48... Keyword: visual question URL: https://en.wikipedia.org/wiki/Visual_question Status: 0\n",
      "Ran 49... Keyword: the memory characteristic URL: https://en.wikipedia.org/wiki/The_memory_characteristic Status: 0\n",
      "Ran 50... Keyword: the vqa 1.0 dataset URL: https://en.wikipedia.org/wiki/The_vqa_1.0_dataset Status: 0\n",
      "Ran 51... Keyword: recurrent and convolutional neural networks URL: https://en.wikipedia.org/wiki/Recurrent_and_convolutional_neural_network Status: 0\n",
      "Ran 52... Keyword: the vqa dataset URL: https://en.wikipedia.org/wiki/The_vqa_dataset Status: 0\n",
      "Ran 53... Keyword: anns URL: https://en.wikipedia.org/wiki/Anns Status: 0\n",
      "Ran 54... Keyword: performance URL: https://en.wikipedia.org/wiki/Performance Status: 1\n",
      "Ran 55... Keyword: sequential or relational reasoning URL: https://en.wikipedia.org/wiki/Sequential_or_relational_reasoning Status: 0\n",
      "Ran 56... Keyword: three different datasets URL: https://en.wikipedia.org/wiki/Three_different_dataset Status: 0\n",
      "Ran 57... Keyword: our implementation URL: https://en.wikipedia.org/wiki/Our_implementation Status: 0\n",
      "Ran 58... Keyword: recurrent layers URL: https://en.wikipedia.org/wiki/Recurrent_layer Status: 0\n",
      "Ran 59... Keyword: an architecture URL: https://en.wikipedia.org/wiki/An_architecture Status: 0\n",
      "Rechecking... Keyword: attention mechanisms Max Similarity: 74.7096191847275\n",
      "Rechecking... Keyword: the current state Max Similarity: 89.0773541667505\n",
      "Rechecking... Keyword: a subsequent one Max Similarity: 85.05114058235664\n"
     ]
    },
    {
     "name": "stderr",
     "output_type": "stream",
     "text": [
      "/Users/diproray/miniconda3/lib/python3.6/runpy.py:193: UserWarning: [W008] Evaluating Doc.similarity based on empty vectors.\n",
      "  \"__main__\", mod_spec)\n"
     ]
    },
    {
     "name": "stdout",
     "output_type": "stream",
     "text": [
      "Rechecking... Keyword: the preceding short texts Max Similarity: 76.15267374284905\n",
      "Rechecking... Keyword: the proposed recurrent attention units Max Similarity: 67.49328037110158\n",
      "Rechecking... Keyword: the art results Max Similarity: 84.7494198649971\n",
      "Rechecking... Keyword: our recurrent attention mechanism Max Similarity: 71.07254040864713\n",
      "Rechecking... Keyword: e.g. sentences Max Similarity: 86.4238133020316\n",
      "Rechecking... Keyword: a rich joint embedding Max Similarity: 47.16808753618129\n"
     ]
    },
    {
     "name": "stderr",
     "output_type": "stream",
     "text": [
      "/Users/diproray/miniconda3/lib/python3.6/runpy.py:193: UserWarning: [W008] Evaluating Doc.similarity based on empty vectors.\n",
      "  \"__main__\", mod_spec)\n",
      "/Users/diproray/miniconda3/lib/python3.6/runpy.py:193: UserWarning: [W008] Evaluating Doc.similarity based on empty vectors.\n",
      "  \"__main__\", mod_spec)\n",
      "/Users/diproray/miniconda3/lib/python3.6/runpy.py:193: UserWarning: [W008] Evaluating Doc.similarity based on empty vectors.\n",
      "  \"__main__\", mod_spec)\n",
      "/Users/diproray/miniconda3/lib/python3.6/runpy.py:193: UserWarning: [W008] Evaluating Doc.similarity based on empty vectors.\n",
      "  \"__main__\", mod_spec)\n",
      "/Users/diproray/miniconda3/lib/python3.6/runpy.py:193: UserWarning: [W008] Evaluating Doc.similarity based on empty vectors.\n",
      "  \"__main__\", mod_spec)\n",
      "/Users/diproray/miniconda3/lib/python3.6/runpy.py:193: UserWarning: [W008] Evaluating Doc.similarity based on empty vectors.\n",
      "  \"__main__\", mod_spec)\n",
      "/Users/diproray/miniconda3/lib/python3.6/runpy.py:193: UserWarning: [W008] Evaluating Doc.similarity based on empty vectors.\n",
      "  \"__main__\", mod_spec)\n",
      "/Users/diproray/miniconda3/lib/python3.6/runpy.py:193: UserWarning: [W008] Evaluating Doc.similarity based on empty vectors.\n",
      "  \"__main__\", mod_spec)\n",
      "/Users/diproray/miniconda3/lib/python3.6/runpy.py:193: UserWarning: [W008] Evaluating Doc.similarity based on empty vectors.\n",
      "  \"__main__\", mod_spec)\n"
     ]
    },
    {
     "name": "stdout",
     "output_type": "stream",
     "text": [
      "Rechecking... Keyword: vqa Max Similarity: 100.0\n",
      "Rechecking... Keyword: sequential short text classification Max Similarity: 70.33879563420919\n"
     ]
    },
    {
     "name": "stderr",
     "output_type": "stream",
     "text": [
      "/Users/diproray/miniconda3/lib/python3.6/runpy.py:193: UserWarning: [W008] Evaluating Doc.similarity based on empty vectors.\n",
      "  \"__main__\", mod_spec)\n"
     ]
    },
    {
     "name": "stdout",
     "output_type": "stream",
     "text": [
      "Rechecking... Keyword: both cases Max Similarity: 70.77190214261844\n"
     ]
    },
    {
     "name": "stderr",
     "output_type": "stream",
     "text": [
      "/Users/diproray/miniconda3/lib/python3.6/runpy.py:193: UserWarning: [W008] Evaluating Doc.similarity based on empty vectors.\n",
      "  \"__main__\", mod_spec)\n",
      "/Users/diproray/miniconda3/lib/python3.6/runpy.py:193: UserWarning: [W008] Evaluating Doc.similarity based on empty vectors.\n",
      "  \"__main__\", mod_spec)\n"
     ]
    },
    {
     "name": "stdout",
     "output_type": "stream",
     "text": [
      "Rechecking... Keyword: our single model outperforms Max Similarity: 65.6082051108381\n"
     ]
    },
    {
     "name": "stderr",
     "output_type": "stream",
     "text": [
      "/Users/diproray/miniconda3/lib/python3.6/runpy.py:193: UserWarning: [W008] Evaluating Doc.similarity based on empty vectors.\n",
      "  \"__main__\", mod_spec)\n"
     ]
    },
    {
     "name": "stdout",
     "output_type": "stream",
     "text": [
      "Rechecking... Keyword: increased accuracy Max Similarity: 80.71003428749522\n",
      "Rechecking... Keyword: many short texts Max Similarity: 84.34424781565463\n",
      "Rechecking... Keyword: dual recurrent attention units Max Similarity: 57.83173867614494\n",
      "Rechecking... Keyword: visual and textual attention Max Similarity: 76.28319777189215\n",
      "Rechecking... Keyword: the model Max Similarity: 88.8227505614238\n",
      "Rechecking... Keyword: the art models Max Similarity: 88.66569808894764\n",
      "Rechecking... Keyword: a document Max Similarity: 85.6001907158494\n",
      "Rechecking... Keyword: a model Max Similarity: 99.99999990995853\n",
      "Rechecking... Keyword: a dialog Max Similarity: 83.31067237602088\n"
     ]
    },
    {
     "name": "stderr",
     "output_type": "stream",
     "text": [
      "/Users/diproray/miniconda3/lib/python3.6/runpy.py:193: UserWarning: [W008] Evaluating Doc.similarity based on empty vectors.\n",
      "  \"__main__\", mod_spec)\n"
     ]
    },
    {
     "name": "stdout",
     "output_type": "stream",
     "text": [
      "Rechecking... Keyword: visual and textual features Max Similarity: 68.79217819744602\n",
      "Rechecking... Keyword: other state Max Similarity: 76.90893358393089\n",
      "Rechecking... Keyword: dialog act prediction Max Similarity: 53.649728504849826\n",
      "Rechecking... Keyword: the first place winner Max Similarity: 91.65172066641108\n",
      "Rechecking... Keyword: the art ensemble model Max Similarity: 69.96634540922038\n",
      "Rechecking... Keyword: most existing ann based systems Max Similarity: 76.84651770326725\n",
      "Rechecking... Keyword: short text classification Max Similarity: 67.63988329850508\n",
      "Rechecking... Keyword: our model Max Similarity: 72.11339483724379\n",
      "Rechecking... Keyword: several parts Max Similarity: 72.70842216901737\n",
      "Rechecking... Keyword: the image Max Similarity: 100.0\n",
      "Rechecking... Keyword: recent approaches Max Similarity: 57.87216147240627\n",
      "Rechecking... Keyword: visual question Max Similarity: 81.1343819583379\n",
      "Rechecking... Keyword: the memory characteristic Max Similarity: 78.14820155489384\n",
      "Rechecking... Keyword: the vqa 1.0 dataset Max Similarity: 61.490323902651866\n",
      "Rechecking... Keyword: recurrent and convolutional neural networks Max Similarity: 91.04069916342951\n",
      "Rechecking... Keyword: the vqa dataset Max Similarity: 58.17074930042823\n"
     ]
    },
    {
     "name": "stderr",
     "output_type": "stream",
     "text": [
      "/Users/diproray/miniconda3/lib/python3.6/runpy.py:193: UserWarning: [W008] Evaluating Doc.similarity based on empty vectors.\n",
      "  \"__main__\", mod_spec)\n"
     ]
    },
    {
     "name": "stdout",
     "output_type": "stream",
     "text": [
      "Rechecking... Keyword: anns Max Similarity: 99.9999946345186\n",
      "Rechecking... Keyword: our implementation Max Similarity: 79.88313192181164\n",
      "Rechecking... Keyword: sequential or relational reasoning Max Similarity: 66.99154796573562\n",
      "Rechecking... Keyword: three different datasets Max Similarity: 79.95617826005859\n",
      "Rechecking... Keyword: this work Max Similarity: 92.05076584483292\n"
     ]
    },
    {
     "name": "stderr",
     "output_type": "stream",
     "text": [
      "/Users/diproray/miniconda3/lib/python3.6/runpy.py:193: UserWarning: [W008] Evaluating Doc.similarity based on empty vectors.\n",
      "  \"__main__\", mod_spec)\n"
     ]
    },
    {
     "name": "stdout",
     "output_type": "stream",
     "text": [
      "Rechecking... Keyword: recurrent layers Max Similarity: 75.25120583258973\n",
      "Rechecking... Keyword: an architecture Max Similarity: 90.92635369238926\n"
     ]
    }
   ],
   "source": [
    "good, prob_good = get_sets(np_phrases, 2)"
   ]
  },
  {
   "cell_type": "code",
   "execution_count": 14,
   "metadata": {},
   "outputs": [
    {
     "data": {
      "text/plain": [
       "59"
      ]
     },
     "execution_count": 14,
     "metadata": {},
     "output_type": "execute_result"
    }
   ],
   "source": [
    "len(np_phrases)"
   ]
  },
  {
   "cell_type": "code",
   "execution_count": 15,
   "metadata": {},
   "outputs": [
    {
     "data": {
      "text/plain": [
       "14"
      ]
     },
     "execution_count": 15,
     "metadata": {},
     "output_type": "execute_result"
    }
   ],
   "source": [
    "len(good)"
   ]
  },
  {
   "cell_type": "code",
   "execution_count": 16,
   "metadata": {},
   "outputs": [
    {
     "data": {
      "text/plain": [
       "19"
      ]
     },
     "execution_count": 16,
     "metadata": {},
     "output_type": "execute_result"
    }
   ],
   "source": [
    "len(prob_good)"
   ]
  },
  {
   "cell_type": "code",
   "execution_count": 23,
   "metadata": {},
   "outputs": [
    {
     "data": {
      "text/plain": [
       "{'a dialog',\n",
       " 'a document',\n",
       " 'a model',\n",
       " 'a subsequent one',\n",
       " 'an architecture',\n",
       " 'anns',\n",
       " 'e.g. sentences',\n",
       " 'increased accuracy',\n",
       " 'many short texts',\n",
       " 'recurrent and convolutional neural networks',\n",
       " 'the art models',\n",
       " 'the art results',\n",
       " 'the current state',\n",
       " 'the first place winner',\n",
       " 'the image',\n",
       " 'the model',\n",
       " 'this work',\n",
       " 'visual question',\n",
       " 'vqa'}"
      ]
     },
     "execution_count": 23,
     "metadata": {},
     "output_type": "execute_result"
    }
   ],
   "source": [
    "prob_good"
   ]
  },
  {
   "cell_type": "code",
   "execution_count": null,
   "metadata": {},
   "outputs": [],
   "source": []
  }
 ],
 "metadata": {
  "kernelspec": {
   "display_name": "Python 3",
   "language": "python",
   "name": "python3"
  },
  "language_info": {
   "codemirror_mode": {
    "name": "ipython",
    "version": 3
   },
   "file_extension": ".py",
   "mimetype": "text/x-python",
   "name": "python",
   "nbconvert_exporter": "python",
   "pygments_lexer": "ipython3",
   "version": "3.6.7"
  }
 },
 "nbformat": 4,
 "nbformat_minor": 2
}
