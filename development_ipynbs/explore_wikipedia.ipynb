{
 "cells": [
  {
   "cell_type": "code",
   "execution_count": 20,
   "metadata": {},
   "outputs": [],
   "source": [
    "import wikipedia\n",
    "import urllib"
   ]
  },
  {
   "cell_type": "code",
   "execution_count": 27,
   "metadata": {},
   "outputs": [
    {
     "name": "stdout",
     "output_type": "stream",
     "text": [
      "poisson_distribution\n",
      "Poisson_distribution\n",
      "Yay!!\n"
     ]
    }
   ],
   "source": [
    "# Checking to see if wikipedia API still works as expected \n",
    "test_word = \"poisson distribution\"\n",
    "url_suffix = (test_word.replace(\" \", \"_\").replace(\"-\", \"_\"))\n",
    "print(url_suffix)\n",
    "url_suffix = url_suffix.capitalize()\n",
    "print(url_suffix)\n",
    "url = \"https://en.wikipedia.org/wiki/\" + url_suffix\n",
    "\n",
    "good = set()\n",
    "\n",
    "code = urllib.request.urlopen(url).getcode()\n",
    "if code == 200:\n",
    "    print(\"Yay!!\")\n",
    "    good.add(test_word)\n",
    "    status = 1\n"
   ]
  },
  {
   "cell_type": "code",
   "execution_count": null,
   "metadata": {},
   "outputs": [],
   "source": [
    "print(wikipedia.page(\"Computer science\").categories)"
   ]
  },
  {
   "cell_type": "code",
   "execution_count": null,
   "metadata": {},
   "outputs": [],
   "source": [
    "print(wikipedia.page(\"Branch and price\").categories)"
   ]
  },
  {
   "cell_type": "code",
   "execution_count": null,
   "metadata": {},
   "outputs": [],
   "source": [
    "print(wikipedia.page(\"Combinatorial Optimization\").categories)"
   ]
  },
  {
   "cell_type": "code",
   "execution_count": null,
   "metadata": {},
   "outputs": [],
   "source": [
    "from bs4 import BeautifulSoup"
   ]
  },
  {
   "cell_type": "code",
   "execution_count": null,
   "metadata": {},
   "outputs": [],
   "source": [
    "import requests\n",
    "page = requests.get(\"https://en.wikipedia.org/wiki/Category:Computer_science\")"
   ]
  },
  {
   "cell_type": "code",
   "execution_count": null,
   "metadata": {},
   "outputs": [],
   "source": [
    "soup = BeautifulSoup(page.content, 'html.parser')\n",
    "items = soup.find_all('div', class_='CategoryTreeItem')"
   ]
  },
  {
   "cell_type": "code",
   "execution_count": null,
   "metadata": {},
   "outputs": [],
   "source": [
    "items[0].a['title']"
   ]
  },
  {
   "cell_type": "code",
   "execution_count": null,
   "metadata": {},
   "outputs": [],
   "source": [
    "for item in items:\n",
    "    print(item.a['title'])"
   ]
  },
  {
   "cell_type": "code",
   "execution_count": null,
   "metadata": {},
   "outputs": [],
   "source": [
    "len(items)"
   ]
  },
  {
   "cell_type": "code",
   "execution_count": null,
   "metadata": {},
   "outputs": [],
   "source": [
    "pages = soup.find_all('div', 'mw-pages')"
   ]
  },
  {
   "cell_type": "code",
   "execution_count": null,
   "metadata": {},
   "outputs": [],
   "source": [
    "pages"
   ]
  },
  {
   "cell_type": "code",
   "execution_count": null,
   "metadata": {},
   "outputs": [],
   "source": [
    "len(pages)"
   ]
  },
  {
   "cell_type": "code",
   "execution_count": null,
   "metadata": {},
   "outputs": [],
   "source": [
    "g_data = soup.find(\"div\", {\"id\": \"mw-pages\"})"
   ]
  },
  {
   "cell_type": "code",
   "execution_count": null,
   "metadata": {},
   "outputs": [],
   "source": [
    "sp = BeautifulSoup(g_data, 'html.parser')"
   ]
  },
  {
   "cell_type": "code",
   "execution_count": null,
   "metadata": {},
   "outputs": [],
   "source": [
    "g = soup.find_all('div', class_='mw-category-group')"
   ]
  },
  {
   "cell_type": "code",
   "execution_count": null,
   "metadata": {},
   "outputs": [],
   "source": [
    "g[2].ul.li.div.div.a['title']"
   ]
  },
  {
   "cell_type": "code",
   "execution_count": null,
   "metadata": {},
   "outputs": [],
   "source": [
    "g[10].ul.li.div.div.a['title']"
   ]
  },
  {
   "cell_type": "code",
   "execution_count": null,
   "metadata": {},
   "outputs": [],
   "source": [
    "g[14]"
   ]
  },
  {
   "cell_type": "code",
   "execution_count": null,
   "metadata": {},
   "outputs": [],
   "source": [
    "import wikipediaapi"
   ]
  },
  {
   "cell_type": "code",
   "execution_count": null,
   "metadata": {
    "scrolled": true
   },
   "outputs": [],
   "source": [
    "wiki_wiki = wikipediaapi.Wikipedia('en')\n",
    "\n",
    "words = set()\n",
    "total_count = 0\n",
    "\n",
    "def is_word_a_person_name(word):\n",
    "    terms = word.split(' ')\n",
    "    for term in terms:\n",
    "        if len(term) != 0 and term[0].islower():\n",
    "            return False\n",
    "    return True\n",
    "\n",
    "\n",
    "def print_categorymembers(categorymembers, level=0, max_level=25):\n",
    "        global total_count\n",
    "        for c in categorymembers.values():\n",
    "            if 'Template:' not in c.title and 'File:' not in c.title:\n",
    "                word = ''\n",
    "                if 'Category:' in c.title:\n",
    "                    word = c.title.split(':')[-1]\n",
    "                if is_word_a_person_name(word) == False:\n",
    "                    words.add(word)\n",
    "                    total_count += 1\n",
    "                    print(str(total_count) + \" : \" + word)\n",
    "            if c.ns == wikipediaapi.Namespace.CATEGORY and level < max_level:\n",
    "                print_categorymembers(c.categorymembers, level=level + 1, max_level=max_level)\n",
    "\n",
    "                \n",
    "\n",
    "cat = wiki_wiki.page(\"Category:Computer science\")\n",
    "print(\"Category members: Category:Computer science\")\n",
    "print_categorymembers(cat.categorymembers)"
   ]
  },
  {
   "cell_type": "code",
   "execution_count": null,
   "metadata": {},
   "outputs": [],
   "source": [
    "len(words)"
   ]
  },
  {
   "cell_type": "code",
   "execution_count": null,
   "metadata": {},
   "outputs": [],
   "source": [
    "words_list = sorted(words)"
   ]
  },
  {
   "cell_type": "code",
   "execution_count": null,
   "metadata": {},
   "outputs": [],
   "source": [
    "words_list"
   ]
  },
  {
   "cell_type": "code",
   "execution_count": null,
   "metadata": {},
   "outputs": [],
   "source": [
    "with open('cs_words.txt', 'w') as f:\n",
    "    for item in words_list:\n",
    "        f.write(\"%s\\n\" % item)"
   ]
  },
  {
   "cell_type": "code",
   "execution_count": null,
   "metadata": {},
   "outputs": [],
   "source": [
    "is_word_a_person_name(\"Dipro ray\")"
   ]
  },
  {
   "cell_type": "code",
   "execution_count": null,
   "metadata": {},
   "outputs": [],
   "source": [
    "import re\n",
    "count = 0\n",
    "with open('../untitled.txt') as f:\n",
    "    with open('cs_words.txt', 'w') as f_w:\n",
    "        f1 = f.readlines()\n",
    "        for x in f1:\n",
    "            count += 1\n",
    "            item = str.lower(re.sub('[^A-z0-9 -]', '', (x[:-1].split(' : ')[-1])))\n",
    "            f_w.write(\"%s\\n\" % item)"
   ]
  },
  {
   "cell_type": "code",
   "execution_count": null,
   "metadata": {},
   "outputs": [],
   "source": [
    "count"
   ]
  },
  {
   "cell_type": "code",
   "execution_count": null,
   "metadata": {},
   "outputs": [],
   "source": [
    "len(words)"
   ]
  },
  {
   "cell_type": "code",
   "execution_count": null,
   "metadata": {},
   "outputs": [],
   "source": [
    "with open('cs_words.txt', 'w') as f:\n",
    "    for item in words_list:\n",
    "        f.write(\"%s\\n\" % item)"
   ]
  },
  {
   "cell_type": "code",
   "execution_count": null,
   "metadata": {},
   "outputs": [],
   "source": [
    "len(words_list)"
   ]
  },
  {
   "cell_type": "code",
   "execution_count": null,
   "metadata": {},
   "outputs": [],
   "source": [
    "prdr = [('constraint programming', 4.146975864728949e+25), ('natural language processing', 4.146975864728949e+25), ('distributed database systems', 4.146975864728949e+25), ('machine learning', 4.146975864728949e+25), ('artificial intelligence', 4.146975864728949e+25), ('interface applications', 4.146975864728949e+20), ('signal processing', 7.801448871916868e+19), ('stimulation technique', 5.1837198309111865e+19), ('case study', 8.321502256481229e+17), ('home networks', 5.2042799622007046e+17), ('rights management', 4.439690260366325e+17), ('game design', 2.6021399811003523e+17), ('tv systems', 2.6021399811003523e+17), ('mathematica package', 2.545212638425329e+17), ('simulation study', 2.540560872677103e+17), ('power control', 2.4803804714475952e+17), ('disclosure limitation', 1.5775712572730557e+17), ('machine translation', 1.4000060192602195e+17), ('camera image', 1.2987600175767061e+17), ('array systems', 1.2548697218931867e+17), ('streaming applications', 1.2548697218931867e+17), ('processor systems', 1.2548697218931867e+17), ('space-time modeling', 1.0517141715153706e+17), ('query learning', 1.0517141715153706e+17), ('quality control', 9.881291478995437e+16), ('data management', 9.837665555071701e+16), ('road networks', 9.616125210490646e+16), ('field experiment', 8.908206908248026e+16), ('process control', 7.925987258757995e+16), ('circuit simulation', 7.097577955355297e+16), ('cinema projection', 6.4938000878835304e+16), ('terrain model', 6.4938000878835304e+16), ('python package', 6.481525691957897e+16), ('library service', 6.186887469774107e+16), ('software package', 6.174765001635647e+16), ('data mining', 5.636449655447166e+16), ('system dynamics', 5.5487845978839656e+16), ('equilibrium wealth', 5.258570857576853e+16), ('data editing', 5.258570857576853e+16), ('disclosure control', 5.258570857576853e+16), ('web object', 5.258570857576853e+16), ('learning approaches', 5.258570857576853e+16), ('decision techniques', 5.258570857576853e+16), ('metadata modeling', 5.258570857576853e+16), ('timing analysis', 5.258570857576853e+16), ('data compression', 5.076214002495956e+16), ('shape analysis', 4.9048069065256584e+16), ('software tool', 4.69189104861279e+16), ('social network', 4.649469946357993e+16), ('matlab package', 4.558343332599733e+16), ('literature review', 4.547785577502325e+16), ('pattern recognition', 4.14101689808442e+16), ('hash table', 3.722568392448135e+16), ('file systems', 3.722568392448135e+16), ('decision support', 3.4537047979068336e+16), ('computer program', 3.4110888449327976e+16), ('maple package', 3.4090964598516756e+16), ('simulation model', 3.340069895444041e+16), ('program suite', 3.2407628459789484e+16), ('simulation language', 3.2407628459789484e+16), ('simulation computer', 3.2407628459789484e+16), ('python framework', 3.2407628459789484e+16), ('business perspective', 3.2407628459789484e+16), ('network perspective', 3.2407628459789484e+16), ('program package', 3.2407628459789484e+16), ('laboratory investigation', 3.2407628459789484e+16), ('market design', 3.2407628459789484e+16), ('pilot study', 3.2090170950077896e+16), ('query language', 3.2090170950077896e+16), ('simulation case', 2.9672844363433548e+16), ('bond graph', 2.7939677773919044e+16), ('mechanism design', 2.6514916821990324e+16), ('deadlock management', 2.4817122616320904e+16), ('database design', 2.4817122616320904e+16), ('transaction management', 2.4817122616320904e+16), ('concurrency control', 2.4817122616320904e+16), ('query processing', 2.4011261679991492e+16), ('process mining', 2.364765747728131e+16), ('query optimization', 2.3168687405627544e+16), ('simulation environment', 2.212681484515002e+16), ('simulation approach', 2.212681484515002e+16), ('computer simulation', 2.0958994202749604e+16), ('data streams', 2.0882917222524676e+16), ('information systems', 2.0734150621758416e+16), ('database systems', 2.064943126497752e+16), ('knowledge management', 1.9739853448521136e+16), ('software architecture', 1.9181990370728348e+16), ('performance analysis', 1.8109499328898976e+16), ('software development', 1.748625028830727e+16), ('mathematica interface', 1.7261431393205096e+16), ('scheduling perspective', 1.7261431393205096e+16), ('design methodology', 1.7261431393205096e+16), ('modeling strategy', 1.7261431393205096e+16), ('software environment', 1.7261431393205096e+16), ('duality approach', 1.7261431393205096e+16), ('computer code', 1.7261431393205096e+16), ('comparison study', 1.7261431393205096e+16), ('matlab program', 1.7261431393205096e+16), ('simulation tool', 1.7261431393205096e+16), ('computer algebra', 1.6939341276923666e+16), ('research model', 1.6203814229894742e+16), ('nanotube application', 1.6203814229894742e+16), ('python tool', 1.6203814229894742e+16), ('particle approach', 1.6203814229894742e+16), ('stepwise approach', 1.6203814229894742e+16), ('market experiment', 1.6203814229894742e+16), ('database support', 1.6203814229894742e+16), ('research note', 1.6203814229894742e+16), ('safety climate', 1.6203814229894742e+16), ('naturalization proposal', 1.6203814229894742e+16), ('prototyping toolkit', 1.6203814229894742e+16), ('microcomputer system', 1.6203814229894742e+16), ('contest theory', 1.6203814229894742e+16), ('www bibliography', 1.6203814229894742e+16), ('defense system', 1.6203814229894742e+16), ('model specification', 1.6203814229894742e+16), ('survey approach', 1.6203814229894742e+16), ('search agent', 1.6203814229894742e+16), ('piecewise sqp', 1.6203814229894742e+16), ('grid simulation', 1.6203814229894742e+16), ('user interaction', 1.6203814229894742e+16), ('postmortem analysis', 1.6203814229894742e+16), ('compensation perspective', 1.6203814229894742e+16), ('journal pivotal', 1.6203814229894742e+16), ('modeling method', 1.6203814229894742e+16), ('simulation engine', 1.6203814229894742e+16), ('search formulation', 1.6203814229894742e+16), ('parallelization strategy', 1.6203814229894742e+16), ('stakeholder analysis', 1.6203814229894742e+16), ('lyapunov approach', 1.6203814229894742e+16), ('threat index', 1.6203814229894742e+16), ('coverage analysis', 1.6203814229894742e+16), ('field study', 1.6203814229894742e+16), ('disturbance estimation', 1.6203814229894742e+16), ('database workload', 1.6203814229894742e+16), ('cascade code', 1.6203814229894742e+16), ('learning approach', 1.6203814229894742e+16), ('graph theoretic', 1.6203814229894742e+16), ('matlab code', 1.6203814229894742e+16), ('grid middleware', 1.6203814229894742e+16), ('technology diffusion', 1.6203814229894742e+16), ('software code', 1.6203814229894742e+16), ('simulation toolkit', 1.6203814229894742e+16), ('contingency perspective', 1.6203814229894742e+16), ('welfare analysis', 1.6203814229894742e+16), ('gamification approach', 1.6203814229894742e+16), ('grid framework', 1.6203814229894742e+16), ('survival analysis', 1.6203814229894742e+16), ('hostless resource', 1.6203814229894742e+16), ('data structure', 1.6203814229894742e+16), ('color image', 1.6203814229894742e+16), ('laboratory experiment', 1.6203814229894742e+16), ('queueing optimization', 1.6203814229894742e+16), ('python interface', 1.6203814229894742e+16), ('packet classification', 1.6203814229894742e+16), ('research tool', 1.6203814229894742e+16), ('cssl/multiprocessor software', 1.6203814229894742e+16), ('network theory', 1.6203814229894742e+16), ('network optimization', 1.6203814229894742e+16), ('tool chain', 1.6203814229894742e+16), ('form library', 1.6203814229894742e+16), ('cournot convergence', 1.6203814229894742e+16), ('model system', 1.6203814229894742e+16), ('trade benefit', 1.6203814229894742e+16), ('management framework', 1.6203814229894742e+16), ('relax-and-fix method', 1.6203814229894742e+16), ('data plane', 1.6203814229894742e+16), ('python toolkit', 1.6203814229894742e+16), ('mupad program', 1.6203814229894742e+16), ('multiagent rhythm', 1.6203814229894742e+16), ('satisfaction equilibrium', 1.6203814229894742e+16), ('simulation package', 1.6203814229894742e+16), ('map framework', 1.6203814229894742e+16), ('target acquisition', 1.6203814229894742e+16), ('diffusion approach', 1.6203814229894742e+16), ('branch-and-merge approach', 1.6203814229894742e+16), ('level scheme', 1.6203814229894742e+16), ('topic modeling', 1.6203814229894742e+16), ('multiagent simulation', 1.6203814229894742e+16), ('coupling algorithm', 1.6203814229894742e+16), ('database retrieval', 1.6203814229894742e+16), ('glauber model', 1.6203814229894742e+16), ('posix model', 1.6203814229894742e+16), ('saddle-point strategy', 1.6203814229894742e+16), ('gpu implementation', 1.6203814229894742e+16), ('maple implementation', 1.6203814229894742e+16), ('training perspective', 1.6203814229894742e+16), ('transfer pricing', 1.6203814229894742e+16), ('household view', 1.6203814229894742e+16), ('supply chain', 1.5958215572474752e+16), ('cluster analysis', 1.5425903462509652e+16), ('systems analysis', 1.532318886473928e+16), ('laboratory study', 1.4938370913886908e+16), ('web mining', 1.4866988287857634e+16), ('manufacturing simulation', 1.4831513030241284e+16), ('learning analytics', 1.4831474044763326e+16), ('systems engineering', 1.4774405162628016e+16), ('fault diagnosis', 1.4110663490813078e+16), ('monte carlo', 1.3955840322667078e+16), ('tracking control', 1.3701225018593568e+16), ('video coding', 1.2455485285943146e+16), ('logic languages', 1.2408561308160452e+16), ('localization algorithms', 1.2408561308160452e+16), ('channel access', 1.2408561308160452e+16), ('utility estimation', 1.2408561308160452e+16), ('agent software', 1.2408561308160452e+16), ('object management', 1.2408561308160452e+16), ('memory computers', 1.2408561308160452e+16), ('database management', 1.2408561308160452e+16), ('inference making', 1.2408561308160452e+16), ('actuator selection', 1.2408561308160452e+16), ('path planning', 1.2408561308160452e+16), ('parameter model', 1.2408561308160452e+16), ('source coding', 1.2408561308160452e+16), ('response time', 1.2408561308160452e+16), ('averaging control', 1.2408561308160452e+16), ('commit protocol', 1.2408561308160452e+16), ('data aggregation', 1.2408561308160452e+16), ('batch processes', 1.2314940903779054e+16), ('life cycle', 1.2282764209614874e+16), ('storage systems', 1.2159837440569202e+16), ('consensus control', 1.2095960554198706e+16), ('chemical processes', 1.188709160872741e+16), ('process management', 1.1832213266362068e+16), ('computer science', 1.1810483194532302e+16), ('project management', 1.1738708106926798e+16), ('sensor fusion', 1.1578607564220364e+16), ('channel allocation', 1.1573424883274308e+16), ('approximation algorithms', 1.1335300531519736e+16), ('image authentication', 1.1170932661770594e+16), ('crime analysis', 1.1008096269817066e+16), ('query evaluation', 1.1008096269817066e+16), ('science ethics', 1.1008096269817066e+16), ('air separation', 1.1008096269817066e+16), ('engineering students', 1.0755869658686628e+16), ('systems approach', 1.0632109707802062e+16), ('decomposition method', 1.0632109707802062e+16), ('graph theory', 9706385548179472.0), ('game theory', 9624695683931166.0), ('wastewater treatment', 9368211027190742.0), ('business process', 9157173797942294.0), ('information technology', 8715943127460352.0), ('engineering ethics', 8612370798574149.0), ('hydrogen production', 8346529623574833.0), ('intrusion detection', 8346529623574833.0), ('web services', 7984390299556386.0), ('simulation framework', 7974082280851547.0), ('mathematica program', 7974082280851547.0), ('semiconductor manufacturing', 7764783671820566.0), ('emergency management', 7336068345670391.0), ('multiphase flow', 7127442472902311.0), ('process systems', 7036506021182821.0), ('water network', 6931342964915463.0), ('power systems', 6919507954618045.0), ('pressure swing', 6655977831721785.0), ('dimensionality reduction', 6497468087823932.0), ('web service', 6377659671012108.0), ('logic programs', 6212293886701298.0), ('hardware/software codesign', 6146946058630208.0), ('population balance', 6071128380153048.0), ('ethics education', 6061952353788462.0), ('information retrieval', 6060789660701414.0), ('service composition', 6027555057986805.0), ('gas dynamics', 6027555057986805.0), ('feynman integrals', 6027555057986805.0), ('portfolio optimization', 6027555057986805.0), ('task analysis', 6027555057986805.0), ('ambiguity aversion', 6027555057986805.0), ('sequence alignment', 6027555057986805.0), ('pipeline scheduling', 6027555057986805.0), ('option pricing', 6027555057986805.0), ('mobility data', 6027555057986805.0), ('gasoline blend', 6027555057986805.0), ('biomass supply', 5897966637544113.0), ('information aggregation', 5818303953753644.0), ('protein folding', 5787419034383682.0), ('knowledge discovery', 5780508015237102.0), ('communication networks', 5725179094142733.0), ('vehicle routing', 5690950245603535.0), ('user experience', 5673455716845826.0), ('time inconsistency', 5668030482570784.0), ('web users', 5668030482570784.0), ('devs models', 5668030482570784.0), ('ethics training', 5668030482570784.0), ('membrane separation', 5668030482570784.0), ('process design', 5664636602552027.0), ('bose-einstein condensates', 5603912221884363.0), ('optimization problems', 5544367003427009.0), ('protein production', 5504048134908533.0), ('software integration', 5504048134908533.0), ('intention recognition', 5504048134908533.0), ('transport time', 5504048134908533.0), ('safety evaluation', 5504048134908533.0), ('drug substance', 5504048134908533.0), ('control threats', 5504048134908533.0), ('vanilla extract', 5504048134908533.0), ('instruction retargeting', 5504048134908533.0), ('development theory', 5504048134908533.0), ('aircraft simulation', 5504048134908533.0), ('strategy formulation', 5504048134908533.0), ('region detection', 5504048134908533.0), ('connection admission', 5504048134908533.0), ('information services', 5504048134908533.0), ('audience reactions', 5504048134908533.0), ('queueing conflicts', 5504048134908533.0), ('box office', 5504048134908533.0), ('supply disruptions', 5504048134908533.0), ('grid resources', 5504048134908533.0), ('game playing', 5504048134908533.0), ('performance modelling', 5504048134908533.0), ('quality competition', 5504048134908533.0), ('memory deduplication', 5504048134908533.0), ('commodity chemicals', 5504048134908533.0), ('high-resolution displays', 5504048134908533.0), ('hospital wards', 5504048134908533.0), ('theory formation', 5504048134908533.0), ('insurance fraud', 5504048134908533.0), ('computer animation', 5504048134908533.0), ('knowledge system', 5504048134908533.0), ('network evolution', 5504048134908533.0), ('unit activity', 5504048134908533.0), ('communication loss', 5504048134908533.0), ('truss structures', 5504048134908533.0), ('kidney exchange', 5504048134908533.0), ('task allocation', 5504048134908533.0), ('currency crises', 5504048134908533.0), ('replay attacks', 5504048134908533.0), ('align competences', 5504048134908533.0), ('cell formation', 5504048134908533.0), ('pyrolysis reaction', 5504048134908533.0), ('interval map', 5504048134908533.0), ('technology transfer', 5504048134908533.0), ('text representation', 5504048134908533.0), ('uncertainty analysis', 5504048134908533.0), ('2d test', 5504048134908533.0), ('text indexing', 5504048134908533.0), ('electricity technologies', 5504048134908533.0), ('web semantics', 5504048134908533.0), ('mineral processing', 5504048134908533.0), ('noise ratio', 5504048134908533.0), ('renewables integration', 5504048134908533.0), ('signal quality', 5504048134908533.0), ('optimization modeling', 5504048134908533.0), ('occupancy modeling', 5504048134908533.0), ('security risk', 5504048134908533.0), ('state stability', 5504048134908533.0), ('board independence', 5504048134908533.0), ('density matrices', 5504048134908533.0), ('building blocks', 5504048134908533.0), ('\"configuration interactions', 5504048134908533.0), ('virtue ethics', 5504048134908533.0), ('finance matter', 5504048134908533.0), ('decision assessment', 5504048134908533.0), ('power plants', 5504048134908533.0), ('admission control', 5504048134908533.0), ('web design', 5504048134908533.0), ('opportunity costs', 5504048134908533.0), ('distillation modelling', 5504048134908533.0), ('credit defaults', 5504048134908533.0), ('deuterium anneal', 5504048134908533.0), ('activity modeling', 5504048134908533.0), ('power production', 5504048134908533.0), ('market microstructure', 5504048134908533.0), ('legacy infrastructures', 5504048134908533.0), ('media analysis', 5504048134908533.0), ('probability densities', 5504048134908533.0), ('model building', 5504048134908533.0), ('traffic performance', 5504048134908533.0), ('junk science', 5504048134908533.0), ('merger announcements', 5504048134908533.0), ('staff plagiarism', 5504048134908533.0), ('equidistribution methods', 5504048134908533.0), ('author reviews', 5504048134908533.0), ('trace curves', 5504048134908533.0), ('sensitivity generation', 5504048134908533.0), ('model world', 5504048134908533.0), ('job outcomes', 5504048134908533.0), ('pavement engineering', 5504048134908533.0), ('model network', 5504048134908533.0), ('skin layer', 5504048134908533.0), ('knowledge resources', 5504048134908533.0), ('localization problems', 5504048134908533.0), ('text translation', 5504048134908533.0), ('gas-compressor stations', 5504048134908533.0), ('image indexing', 5504048134908533.0), ('technology strategy', 5504048134908533.0), ('resolution changes', 5504048134908533.0), ('database scalability', 5504048134908533.0), ('liquid (cbgtl', 5504048134908533.0), ('uncertainty quantification', 5504048134908533.0), ('market leadership', 5504048134908533.0), ('radiation symmetry', 5504048134908533.0), ('music piracy', 5504048134908533.0), ('information structure', 5504048134908533.0), ('university spin-offs', 5504048134908533.0), ('public-key cryptography', 5504048134908533.0), ('student emotion', 5504048134908533.0), ('technology development', 5476199211056763.0), ('water management', 5388934942370120.0), ('electricity markets', 5388934942370120.0), ('service systems', 5371920580766520.0), ('sensor network', 5329421476034746.0), ('performance indicators', 5326811301489212.0), ('simulation methodology', 5316054853901031.0), ('prototype implementation', 5316054853901031.0), ('decomposition framework', 5316054853901031.0), ('branch-and-bound algorithm', 5316054853901031.0), ('branch-and-price approach', 5316054853901031.0), ('modeling methodology', 5316054853901031.0), ('security framework', 5316054853901031.0), ('branch-and-price algorithm', 5316054853901031.0), ('drug development', 5310776420562424.0), ('fusion plasmas', 5310776420562424.0), ('chemical reaction', 5299461896653306.0), ('face recognition', 5259007359802913.0), ('supply chains', 5256920668570229.0), ('materials science', 5217272043163270.0), ('congestion games', 5217272043163270.0), ('customer relationship', 5217272043163270.0), ('ethics instruction', 5217272043163270.0), ('product engineering', 5217272043163270.0), ('web search', 5156319544965788.0), ('knowledge sharing', 5078180531264852.0), ('data integration', 5066844029712758.0), ('stock returns', 4843261732958137.0), ('team performance', 4835550468387056.0), ('graph clustering', 4826016983868558.0), ('data warehouse', 4812603202577221.0), ('recommender systems', 4716604149744044.0), ('stock market', 4702496504361925.0), ('data warehouses', 4656167977223047.0), ('web data', 4573690556457487.0), ('business processes', 4541111331191427.0), ('parameter estimation', 4532002342248952.0), ('sensor networks', 4468157187213417.0), ('batch plants', 4370063388441570.5), ('business intelligence', 4344152345944858.5), ('data disclosure', 4248078338780198.5), ('product design', 4241409638087951.0), ('life science', 4159413519398056.5), ('service (qos', 4093141043131257.0), ('interval matrices', 4093141043131257.0), ('lattice boltzmann', 4077741364557443.5), ('heat exchanger', 4052820477018002.5), ('web portals', 3924606194323102.0), ('state estimation', 3919403256319973.0), ('information security', 3901202326927628.5), ('fraud detection', 3884010617103637.5), ('stream ciphers', 3884010617103637.5), ('chaos analysis', 3884010617103637.5), ('performance evaluation', 3830896524027836.0), ('power quality', 3799889143256223.0), ('information goods', 3799889143256223.0), ('user interface', 3799889143256223.0), ('simulation analysis', 3788958582785692.0), ('simulation modeling', 3773129962849929.5), ('space station', 3642060588065440.0), ('data distribution', 3605160916371511.5), ('research misconduct', 3564958187265575.0), ('multipurpose batch', 3399900960353954.0), ('performance comparison', 3341575642088473.0), ('web usage', 3341575642088473.0), ('time petri', 3341575642088473.0), ('injection molding', 3304908738210504.0), ('chemical process', 3263962841120726.5), ('chemical production', 3255625940331223.5), ('process monitoring', 3246915201881870.5), ('data reconciliation', 3236835725947947.0), ('perturbed oscillators', 3219122282640070.5), ('process simulation', 3195410324487431.5), ('web information', 3194319864734234.0), ('simulation models', 3155728513060164.5), ('energy systems', 3120501316844016.0), ('fault detection', 3065598073033689.0), ('data stream', 2991868336438139.5), ('web applications', 2970398786238740.5), ('batch process', 2932405970271757.0), ('systems management', 2925105303528808.0), ('computer systems', 2915965522027454.5), ('data privacy', 2913007962827728.0), ('spam filtering', 2913007962827728.0), ('application development', 2913007962827728.0), ('performance improvement', 2913007962827728.0), ('internet applications', 2913007962827728.0), ('multistage stochastic', 2913007962827728.0), ('quality assurance', 2913007962827728.0), ('sentiment analysis', 2913007962827728.0), ('probability measures', 2896101563963239.0), ('process scheduling', 2804865594696407.5), ('particle simulations', 2804865594696407.5), ('community detection', 2803431995349140.0), ('production scheduling', 2792666513253378.5), ('process synthesis', 2749349483077157.0), ('biodiesel production', 2733755438549824.5), ('water distribution', 2732043169287164.5), ('multimedia content', 2731972916144101.5), ('stability analysis', 2730361623836988.5), ('resource allocation', 2728118135275922.5), ('rheed intensity', 2722895299693708.5), ('water networks', 2666984100722302.0), ('tool support', 2658027426950515.5), ('programming model', 2658027426950515.5), ('web navigation', 2658027426950515.5), ('convex relaxation', 2658027426950515.5), ('controller architecture', 2658027426950515.5), ('reference implementation', 2658027426950515.5), ('hybrid ga-sqp', 2658027426950515.5), ('decomposition algorithm', 2658027426950515.5), ('model elimination', 2658027426950515.5), ('prolog simulator', 2658027426950515.5), ('modeling tool', 2658027426950515.5), ('transport simulation', 2658027426950515.5), ('transmission matrix', 2658027426950515.5), ('paradigm shift', 2658027426950515.5), ('parallelization scheme', 2658027426950515.5), ('utility threshold', 2658027426950515.5), ('maturity model', 2658027426950515.5), ('cluster algorithm', 2658027426950515.5), ('port simulation', 2658027426950515.5), ('multicomputer software', 2658027426950515.5), ('perturbation method', 2658027426950515.5), ('bargaining framework', 2658027426950515.5), ('content-incentive-usability framework', 2658027426950515.5), ('test electron', 2658027426950515.5), ('classification scheme', 2658027426950515.5), ('simulation method', 2658027426950515.5), ('capability maturity', 2658027426950515.5), ('management system', 2658027426950515.5), ('decomposition approach', 2658027426950515.5), ('matrix method', 2658027426950515.5), ('method engineering', 2658027426950515.5), ('usability study', 2658027426950515.5), ('framework analysis', 2658027426950515.5), ('value co-creation', 2658027426950515.5), ('bifurcation approach', 2658027426950515.5), ('multiscale systems', 2658027426950515.5), ('motion cueing', 2658027426950515.5), ('college admissions', 2658027426950515.5), ('multisensor technique', 2658027426950515.5), ('tool box', 2658027426950515.5), ('particle scale', 2658027426950515.5), ('transistor level', 2658027426950515.5), ('state action', 2658027426950515.5), ('postponement model', 2658027426950515.5), ('simulation assistant', 2658027426950515.5), ('tutor agent', 2658027426950515.5), ('knowledge process', 2658027426950515.5), ('bargaining model', 2658027426950515.5), ('calculation procedure', 2658027426950515.5), ('proposal model', 2658027426950515.5), ('regression approach', 2658027426950515.5), ('monitoring system', 2658027426950515.5), ('limit characterization', 2658027426950515.5), ('superspace module', 2658027426950515.5), ('graph partitioning', 2658027426950515.5), ('branch-and-cut method', 2658027426950515.5), ('video presentation', 2658027426950515.5), ('performance study', 2658027426950515.5), ('citation analysis', 2658027426950515.5), ('reduce program', 2658027426950515.5), ('domain-decomposition method', 2658027426950515.5), ('pomdp framework', 2658027426950515.5), ('factorization algorithm', 2658027426950515.5), ('time stamp', 2658027426950515.5), ('software stimulator', 2658027426950515.5), ('scheduling algorithm', 2658027426950515.5), ('low-dissipation finite-volume', 2658027426950515.5), ('software interface', 2658027426950515.5), ('state event', 2658027426950515.5), ('committee machine', 2658027426950515.5), ('fractiles perspective', 2658027426950515.5), ('threshold inventory', 2658027426950515.5), ('co-simulation method', 2658027426950515.5), ('robot model', 2658027426950515.5), ('codesign case', 2658027426950515.5), ('majority vote', 2658027426950515.5), ('pdp approach', 2658027426950515.5), ('market discovery', 2658027426950515.5), ('nonequilibrium model', 2658027426950515.5), ('supplier portal', 2658027426950515.5), ('network model', 2658027426950515.5), ('queueing analysis', 2658027426950515.5), ('visualization method', 2658027426950515.5), ('particle motion', 2658027426950515.5), ('performance simulation', 2658027426950515.5), ('calibration procedure', 2658027426950515.5), ('biomolecular electrostatics', 2658027426950515.5), ('fdtd analysis', 2658027426950515.5), ('multistream heat', 2658027426950515.5), ('coherence analysis', 2658027426950515.5), ('cokosnut code', 2658027426950515.5), ('separation principle', 2658027426950515.5), ('branch-and-bound decomposition', 2658027426950515.5), ('shortcut method', 2658027426950515.5), ('semantic-syntax model', 2658027426950515.5), ('two-stage algorithm', 2658027426950515.5), ('feature logic', 2658027426950515.5), ('forest canopy', 2658027426950515.5), ('modal µ-calculus', 2658027426950515.5), ('search algorithm', 2658027426950515.5), ('haar wavelet', 2658027426950515.5), ('sustainability root', 2658027426950515.5), ('particle localization', 2658027426950515.5), ('pdevs simulator', 2658027426950515.5), ('coherence space', 2658027426950515.5), ('phase space', 2658027426950515.5), ('process simulator', 2658027426950515.5), ('no-arbitrage analysis', 2658027426950515.5), ('multiechelon inventory', 2658027426950515.5), ('comparison framework', 2658027426950515.5), ('simulator design', 2658027426950515.5), ('perturbation approach', 2658027426950515.5), ('correspondence principle', 2658027426950515.5), ('gesture learning', 2658027426950515.5), ('decomposition methodology', 2658027426950515.5), ('multiprocessor system', 2658027426950515.5), ('point-of-interest recommendation', 2658027426950515.5), ('simulation procedure', 2658027426950515.5), ('default extension', 2658027426950515.5), ('splitting integration', 2658027426950515.5), ('multiagent architecture', 2658027426950515.5), ('phase transition', 2658027426950515.5), ('linearization method', 2658027426950515.5), ('java application', 2658027426950515.5), ('cell population', 2658027426950515.5), ('modeling framework', 2658027426950515.5), ('methodology proposal', 2658027426950515.5), ('cat tool', 2658027426950515.5), ('multiprocessor soc', 2658027426950515.5), ('state task', 2658027426950515.5), ('construction method', 2658027426950515.5), ('privacy service', 2658027426950515.5), ('likelihood approach', 2658027426950515.5), ('functional-pca approach', 2658027426950515.5), ('product theorem', 2658027426950515.5), ('band factorization', 2658027426950515.5), ('machine state', 2658027426950515.5), ('model library', 2658027426950515.5), ('tool kit', 2658027426950515.5), ('mediation layer', 2658027426950515.5), ('knowledge level', 2658027426950515.5), ('system architecture', 2658027426950515.5), ('bottom-up search', 2658027426950515.5), ('software program', 2658027426950515.5), ('simulation technique', 2658027426950515.5), ('metadata approach', 2658027426950515.5), ('block jacobi', 2658027426950515.5), ('document retrieval', 2658027426950515.5), ('parallelization method', 2658027426950515.5), ('design space', 2645959436313292.0), ('data analysis', 2640857750023457.5), ('carbon dioxide', 2582305569630185.0), ('energy efficiency', 2571273471297375.5), ('process networks', 2544973712440475.5), ('search model', 2542316909638781.0), ('production planning', 2536577186651073.0), ('software security', 2536577186651073.0), ('robot control', 2536577186651073.0), ('data centers', 2509804940465406.0), ('folk theorem', 2488248443923839.5), ('hand gesture', 2474371663808861.0), ('web portal', 2460469976090952.0), ('meshless method', 2459782346435282.5), ('demand estimation', 2459782346435282.5), ('task scheduling', 2435378610715940.0), ('marksmanship performance', 2424896615423622.5), ('drug delivery', 2395241950519070.0), ('network security', 2351838361220071.5), ('gait recognition', 2351838361220071.5), ('data quality', 2351838361220071.5), ('dimension reduction', 2351838361220071.5), ('capacity planning', 2351838361220071.5), ('information products', 2351838361220071.5), ('market share', 2351838361220071.5), ('devs simulation', 2351838361220071.5), ('time series', 2312479481684550.0), ('enterprise transformation', 2286845278228743.5), ('particle swarm', 2282188683158764.5), ('process engineering', 2275075281382343.5), ('ion channels', 2270555665595713.5), ('blast furnace', 2242578210286727.5), ('information acquisition', 2213859520696177.5), ('recommender system', 2180310099057627.0), ('convex optimization', 2107650421424648.5), ('simulation output', 2088078754649849.8), ('power law', 2042571364934493.0), ('crystallization processes', 2037861862986912.8), ('process innovation', 2017310538648711.0), ('controller design', 2017310538648711.0), ('document analysis', 1994578890958759.5), ('data collection', 1992313984412772.0), ('feature terms', 1992313984412772.0), ('oil production', 1992313984412772.0), ('association rules', 1992313984412772.0), ('pedestrian flow', 1992313984412772.0), ('one-loop amplitudes', 1992313984412772.0), ('decision trees', 1992313984412772.0), ('engineering education', 1988528817954705.5), ('chemical engineering', 1985189447474480.8), ('process operations', 1950601163463814.2), ('team collaboration', 1942005308551818.8), ('user authentication', 1942005308551818.8), ('gap closing', 1942005308551818.8), ('multivariate change', 1942005308551818.8), ('process supervision', 1942005308551818.8), ('social networks', 166442316947702.34), ('semantic web', 33660871370888.72), ('peer-to-peer lending', 27942545126935.89), ('social media', 23491704887496.727), ('open collaboration', 13971272563467.945), ('instructional contexts', 13971272563467.945), ('semantic interoperability', 8910320480749.889), ('social web', 8605879051779.148), ('semantic integration', 8305177624691.756), ('analytical processing', 8003429569667.955), ('visual query', 6418043370846.457), ('class-based image', 6418043370846.457), ('geospatial web', 6418043370846.457), ('medical image', 6019276465113.701), ('financial advice', 5973132605714.152), ('social networking', 5767302525212.944), ('human computation', 5665771640282.618), ('social services', 4227050350949.8926), ('spatial data', 2894369693337.2695), ('preemptive scheduling', 2667809856555.985), ('node-weighted problems', 2667809856555.985), ('average-based system', 2667809856555.985), ('cross-modal adaptation', 2667809856555.985), ('self-help groups', 2667809856555.985), ('soft sensor', 2367765928392.7275), ('wireless sensor', 2258397564125.3584), ('private value', 2022805689604.8196), ('virtual reality', 1707046228970.4333), ('wireless networks', 1704909649034.9812), ('virtual environments', 1613301801457.299), ('complex systems', 1490838195323.0337), ('big data', 1294977818491.6472), ('cellular automata', 1255257841551.428), ('complex networks', 1218154652656.1187), ('temporal databases', 1190817168183.8518), ('digital libraries', 1179774598316.509), ('scientific computing', 1170466657520.6636), ('cloud computing', 1149599724408.6956), ('molecular dynamics', 1078008484352.1521), ('financial markets', 1062762501902.7056), ('higher education', 1062691086463.1687), ('location-based services', 1062691086463.1687), ('new product', 1038377184609.778), ('continuous time', 1021784572556.9065), ('special issue', 955048583507.1715), ('discrete event', 950469478654.5276), ('scale-free networks', 910878074111.2874), ('online markets', 910878074111.2874), ('common agency', 910094656296.5695), ('porous media', 880182544111.3273), ('multi-objective optimization', 836344044809.9512), ('optimal control', 834357776468.344), ('mobile computing', 810802349892.3123), ('linear systems', 808630243047.0992), ('transitional growth', 803153957746.7622), ('objective programming', 803153957746.7622), ('independent levels', 803153957746.7622), ('statistical decision', 803153957746.7622), ('adaptive mechanisms', 803153957746.7622), ('first authors', 803153957746.7622), ('elastic scattering', 779664979324.0371), ('molecular simulations', 759065061759.406), ('quaternionic quantum', 759065061759.406), ('real-time optimization', 746258580277.8562), ('global games', 738494868454.3799), ('high energy', 724872107255.7177), ('eco-industrial parks', 722993539805.1978), ('mobile environments', 722993539805.1978), ('combinatorial optimization', 722993539805.1978), ('nonlinear systems', 720938869491.1893), ('dynamic games', 710151409100.752), ('dynamical systems', 682638649461.0066), ('general equilibrium', 665069410806.6764), ('global optimization', 659449648273.7114), ('crude oil', 641820645692.4982), ('structured text', 627711689115.3004), ('random intersection', 607252049407.5248), ('parallel database', 607252049407.5248), ('neural networks', 606534375053.6312), ('wireless multi-hop', 605584883202.7867), ('spatio-temporal databases', 602868622120.2666), ('experimental evidence', 600419643584.475), ('multi-agent systems', 594817123702.2528), ('two-sided markets', 568700732516.2888), ('magnetic fields', 565638122525.7678), ('spatial analysis', 564061067450.3289), ('geometric networks', 545288976457.73016), ('open source', 543914400167.51843), ('online games', 523041705674.6519), ('adverse selection', 509918259491.9673), ('dynamic systems', 493566457982.2222), ('large networks', 485176005090.7857), ('optical lattices', 484186485850.6748), ('online auctions', 484186485850.6748), ('evolutionary games', 484186485850.6748), ('real time', 481905969185.1223), ('reactive distillation', 480409360247.2284), ('wireless video', 468728512915.7951), ('dynamic networks', 468477702085.37067), ('electronic markets', 467557226130.9875), ('stochastic games', 466555836494.1554), ('human-machine systems', 460745728785.42035), ('scientific writing', 455439037055.6437), ('general relativity', 455439037055.6437), ('principal-agent models', 455439037055.6437), ('financial networks', 455439037055.6437), ('dynamic environments', 455439037055.6437), ('magnetized plasmas', 455439037055.6437), ('common-value auctions', 455439037055.6437), ('real space', 455439037055.6437), ('metabolic networks', 455439037055.6437), ('spatio-temporal data', 455439037055.6437), ('serial supply', 455439037055.6437), ('computational neuroscience', 455439037055.6437), ('spatial databases', 454173350830.4342), ('biometric systems', 454173350830.4342), ('computational biology', 454173350830.4342), ('scientific data', 453948817667.47406), ('differential games', 446690875679.2116), ('biomedical research', 440304037288.63666), ('economic environments', 439618188728.73865), ('relational contracts', 432122178689.7599), ('relational databases', 431925486502.51184), ('neural population', 431624714728.90216), ('cellular networks', 431624714728.90216), ('bayesian games', 425546862018.87415), ('chemical plants', 425463485118.5832), ('hybrid wireless', 424293091203.8898), ('networked control', 419286049764.55597), ('agent-based simulation', 409203138963.62335), ('discrete time', 398161587766.9295), ('genetic algorithms', 384426870234.65106), ('unstructured grids', 380090249975.1778), ('remote sensing', 373544812303.85516), ('linear programming', 370094375233.2399), ('intelligent transportation', 362938730431.3957), ('real-time systems', 362054627990.0187), ('ubiquitous computing', 357408687413.58923), ('dissipative particle', 355811470379.59485), ('human-computer interaction', 354385371627.61847), ('discrete element', 353967852166.9663), ('fluid flow', 349095835822.23926), ('large-scale systems', 343488327672.122), ('extractive distillation', 343488327672.122), ('mobile devices', 340726310016.37445), ('natural gas', 340009811604.887), ('natural language', 338158667758.72375), ('industrial processes', 335649169936.48267), ('collaborative filtering', 335649169936.48267), ('wireless mesh', 334765067383.086), ('large scale', 332334573884.2017), ('computational physics', 327040837344.25916), ('cheap talk', 322920269532.33777), ('chemical supply', 322755081379.81177), ('nonlinear model', 322641901818.2602), ('spatiotemporal databases', 319493270883.9326), ('online labor', 319493270883.9326), ('multiple data', 318723336877.64307), ('statistical inference', 317110205988.37427), ('mutual fund', 316681472028.2853), ('multi-echelon supply', 316244512729.742), ('deductive databases', 313431840829.2021), ('large graphs', 313431840829.2021), ('nuclear power', 313431840829.2021), ('production-inventory systems', 313431840829.2021), ('safety-critical systems', 313431840829.2021), ('complex product', 313431840829.2021), ('adaptive systems', 313431840829.2021), ('random graphs', 313431840829.2021), ('electronic commerce', 313431840829.2021), ('complex reaction', 313431840829.2021), ('asynchronous transfer', 312661910425.52313), ('statistical databases', 312485675277.1967), ('numerical simulations', 312485675277.1967), ('automotive applications', 312485675277.1967), ('large data', 312485675277.1967), ('hybrid systems', 310684521659.4113), ('complex environments', 307475506756.16797), ('nonlinear control', 307475506756.16797), ('biopharmaceutical manufacturing', 307475506756.16797), ('mathematical programming', 306555999745.38165), ('uncertain data', 304532104856.7376), ('organizational structures', 303626024703.7624), ('virtual restoration', 303626024703.7624), ('optimal auctions', 303626024703.7624), ('heterogeneous network', 303626024703.7624), ('structured populations', 303626024703.7624), ('artificial vision', 303626024703.7624), ('public health', 303626024703.7624), ('computer-aided design', 303626024703.7624), ('electronic retailing', 303626024703.7624), ('spatiotemporal data', 303626024703.7624), ('hierarchical memory', 303626024703.7624), ('urban areas', 303626024703.7624), ('academic settings', 303626024703.7624), ('free surface', 303626024703.7624), ('medical geography', 303626024703.7624), ('unstructured radio', 303626024703.7624), ('crystalline materials', 303626024703.7624), ('general geometry', 303626024703.7624), ('biometric fusion', 303626024703.7624), ('homogeneous solids', 303626024703.7624), ('neuronal signaling', 303626024703.7624), ('scientific database', 303626024703.7624), ('hardware-software codesign', 303626024703.7624), ('single buffer', 303626024703.7624), ('competitive search', 303626024703.7624), ('spherical geometry', 303626024703.7624), ('academic research', 303626024703.7624), ('industrial symbiosis', 303626024703.7624), ('small network', 303626024703.7624), ('strategic market', 303626024703.7624), ('huge networks', 303626024703.7624), ('higher dimensions', 303626024703.7624), ('scientific databases', 303626024703.7624), ('multi-radio wireless', 303626024703.7624), ('large markets', 303626024703.7624), ('geometric radio', 303626024703.7624), ('dynamic markets', 303626024703.7624), ('weighted digraphs', 303626024703.7624), ('speculative markets', 303626024703.7624), ('process-aware information', 303626024703.7624), ('small networks', 303626024703.7624), ('online algorithms', 303626024703.7624), ('discrete simulation', 303626024703.7624), ('molecular crystals', 303626024703.7624), ('common value', 303626024703.7624), ('anaerobic digestion', 303626024703.7624), ('large populations', 303626024703.7624), ('structured domains', 303626024703.7624), ('complex organizations', 303626024703.7624), ('contemporary science', 303626024703.7624), ('different countries', 303626024703.7624), ('biomolecular systems', 303626024703.7624), ('social psychology', 303626024703.7624), ('rural sociology', 303626024703.7624), ('german hospitals', 303626024703.7624), ('random media', 303626024703.7624), ('sequential auctions', 303626024703.7624), ('ergodic theory', 303626024703.7624), ('hazardous applications', 303626024703.7624), ('french engineering', 303626024703.7624), ('active databases', 303626024703.7624), ('solid state', 303626024703.7624), ('compact spaces', 303626024703.7624), ('evolutionary learning', 303626024703.7624), ('spatial prediction', 303626024703.7624), ('complex engineering', 303626024703.7624), ('heterogeneous networks', 303626024703.7624), ('computational convexity', 303626024703.7624), ('pharmaceutical manufacturing', 303626024703.7624), ('dynamic settings', 303626024703.7624), ('large-scale service', 303626024703.7624), ('multi agent', 303626024703.7624), ('french sociology', 303626024703.7624), ('professional service', 303626024703.7624), ('large economies', 303626024703.7624), ('two-dimensional traffic', 303626024703.7624), ('lulc classification', 303626024703.7624), ('educational settings', 303626024703.7624), ('economic networks', 303626024703.7624), ('philosophical logic', 303626024703.7624), ('bilateral trade', 303626024703.7624), ('sublinear time', 303626024703.7624), ('geospatial domains', 303626024703.7624), ('multilateral bargaining', 303626024703.7624), ('heterogeneous clusters', 303626024703.7624), ('finite fields', 303626024703.7624), ('numerical solution', 303362430142.9759), ('large domains', 302792441601.3934), ('multiple lossy', 302792441601.3934), ('multi-dimensional space', 302792441601.3934), ('infinite intervals', 302792441601.3934), ('deterministic discrete-time', 302792441601.3934), ('hybrid networks', 302792441601.3934), ('heterogeneous terrain', 302792441601.3934), ('special fields', 302792441601.3934), ('variable terrain', 302792441601.3934), ('large solution', 302792441601.3934), ('dl-lite ontologies', 302792441601.3934), ('efficient sets', 302792441601.3934), ('multiobjective optimization', 302474569701.59814), ('multiple gpus', 302178984438.4002), ('user-generated content', 300953521403.88165), ('nearest neighbor', 300826348446.9064), ('numerical simulation', 299855252917.2505), ('reverse osmosis', 298967643513.40845), ('social interaction', 298967643513.40845), ('empirical study', 298824929562.12335), ('complex geometry', 297930513187.8186), ('qualitative simulation', 297930513187.8186), ('online communities', 297930513187.8186), ('cultural heritage', 297930513187.8186), ('pervasive computing', 297930513187.8186), ('virtual communities', 297930513187.8186), ('human-robot collaboration', 297930513187.8186), ('liquid chromatography', 297930513187.8186), ('scientific applications', 297925345914.2037), ('multiple time', 295728793751.75323), ('turbulent flows', 294206072348.23285), ('rough set', 289937039133.75476), ('boolean functions', 289880807440.77594), ('continuous action', 289167103779.6638), ('incomplete data', 289167103779.6638), ('stochastic overlapping', 288855068269.7653), ('genetic programming', 287847476200.58734), ('large games', 287743939371.24603), ('social science', 287743939371.24603), ('synthetic biology', 287341597809.9785), ('plant-wide control', 285037130666.7978), ('public sector', 279473963532.5036), ('relational database', 276305505834.19617), ('magnetized plasma', 271855909159.60236), ('private information', 267777101507.4878), ('incomplete information', 266025710576.44476), ('endogenous growth', 261913607802.20395), ('clinical trials', 259167945201.51056), ('short-term scheduling', 256735318628.41162), ('neural network', 254333669506.19843), ('critical index', 253668358692.92517), ('finite elements', 253393499983.45187), ('human behavior', 231857128613.58002), ('differential-algebraic equations', 231857128613.58002), ('liquid crystals', 231857128613.58002), ('new ventures', 231857128613.58002), ('linear equations', 229407301143.94647), ('experimental investigation', 228169154725.9175), ('random access', 227662317199.07944), ('conceptual design', 225735661734.63718), ('medical devices', 222113425467.88345), ('finite populations', 222113425467.88345), ('evolutionary algorithms', 220921569830.59766), ('shale gas', 219216925191.31418), ('nonlinear process', 216465415065.7024), ('dynamic contracts', 216429052262.05823), ('industrial engineering', 216429052262.05823), ('self-optimizing control', 216211437954.60062), ('coalitional equilibrium', 216061089344.87994), ('thermal management', 216061089344.87994), ('approximate all-pairs', 216061089344.87994), ('unstructured bargaining', 216061089344.87994), ('variational preferences', 216061089344.87994), ('conditional beta', 216061089344.87994), ('model-based fault', 216061089344.87994), ('rational inattention', 216061089344.87994), ('noncooperative games', 216061089344.87994), ('legislative policy', 216061089344.87994), ('haptic interaction', 216061089344.87994), ('greedy algorithms', 216061089344.87994), ('metabolic modeling', 216061089344.87994), ('predictive scheduling', 216061089344.87994), ('legislative decision', 216061089344.87994), ('potential games', 216061089344.87994), ('mixed duopoly', 216061089344.87994), ('strategic information', 216061089344.87994), ('logical partitioning', 216061089344.87994), ('topological logic', 216061089344.87994), ('solid oxide', 215753743419.18314), ('high performance', 213627000591.2061), ('hydraulic fracturing', 211358667756.8799), ('elementary particle', 210907374876.97394), ('economic applications', 210907374876.97394), ('econometric inferences', 210907374876.97394), ('car-parrinello calculations', 210907374876.97394), ('strategic complexity', 210907374876.97394), ('molecular genetics', 210907374876.97394), ('open issues', 210907374876.97394), ('empirical support', 210907374876.97394), ('hartree-fock method', 210907374876.97394), ('empirical evidence', 210907374876.97394), ('random variables', 208416370424.67276), ('human factors', 206127508118.27515), ('biological networks', 205418491334.39908), ('electronic structure', 204628917711.31805), ('embedded system', 204422853888.42673), ('two-phase flow', 202820634694.8271), ('social learning', 202820634694.8271), ('discontinuous games', 202820634694.8271), ('continuous system', 201936535586.8089), ('ambient intelligence', 201800647608.91095), ('organizational learning', 201800647608.91095), ('new technologies', 201800647608.91095), ('large systems', 201800647608.91095), ('forward osmosis', 201800647608.91095), ('social groups', 201800647608.91095), ('tubular reactors', 201800647608.91095), ('scientific work', 201800647608.91095), ('free energy', 201800647608.91095), ('optical networks', 201800647608.91095), ('parallel programs', 201800647608.91095), ('optical spectra', 201800647608.91095), ('human effectiveness', 200811134775.32187), ('sterile filling', 200811134775.32187), ('large-scale computer', 200811134775.32187), ('online movie', 200811134775.32187), ('computational forensics', 200811134775.32187), ('dark matter', 199739844607.47803), ('robust control', 198585235199.5915), ('sequential patterns', 197127333875.25818), ('time-evolving graphs', 197127333875.25818), ('dynamic modeling', 195861033724.57718), ('random number', 195837117209.64706), ('nonlinear equations', 194894005905.64407), ('interval computations', 193534897059.26126), ('dynamic data', 193270471892.81165), ('wavelet transform', 190045124987.5889), ('relational data', 189562934535.67282), ('autonomous vehicles', 188291755339.41028), ('high-performance computing', 188291755339.41028), ('asymmetric information', 187619479646.65576), ('robust counterpart', 185353161718.9161), ('enterprise-wide optimization', 185353161718.9161), ('closed-loop supply', 183784591150.71716), ('automotive industry', 180184457902.7725), ('complex chemical', 179392699163.71167), ('numerical methods', 178359890106.16788), ('social interactions', 178359890106.16788), ('discrete-event simulation', 178203904606.64902), ('epidemic simulations', 177971050068.54117), ('retail banking', 177805595070.13324), ('numerical modeling', 176491593647.30005), ('medical applications', 174646975091.97528), ('low temperature', 174646975091.97528), ('global software', 174646975091.97528), ('high power', 174646975091.97528), ('intelligent agents', 174646975091.97528), ('inertial confinement', 174646975091.97528), ('cumulative prospect', 174646975091.97528), ('human motion', 174646975091.97528), ('limited commitment', 174496109293.57858), ('human-robot interaction', 173785742991.33044), ('molecular simulation', 172414931479.67258), ('fed-batch cultures', 171744163836.061), ('dynamic models', 171744163836.061), ('biopharmaceutical processes', 171744163836.061), ('introductory programming', 171744163836.061), ('networked systems', 171744163836.061), ('online feedback', 171744163836.061), ('parallel tasks', 171744163836.061), ('neural data', 171744163836.061), ('cartesian coordinates', 171744163836.061), ('medical imaging', 171744163836.061), ('nuclear track', 171744163836.061), ('statistical data', 171744163836.061), ('discrete-time mip', 171744163836.061), ('sustainable supply', 171744163836.061), ('virtual worlds', 171744163836.061), ('risky decision', 171744163836.061), ('electronic transport', 171744163836.061), ('slow-fast systems', 171744163836.061), ('high density', 171744163836.061), ('continuous casting', 171744163836.061), ('concurrent design', 171744163836.061), ('heavy oil', 171744163836.061), ('overall process', 171744163836.061), ('intense laser', 171744163836.061), ('mobile middleware', 171744163836.061), ('dynamic graphs', 171744163836.061), ('atomic gases', 171744163836.061), ('autonomous robotics', 171744163836.061), ('scientific journals', 171744163836.061), ('clinical laboratories', 171744163836.061), ('mobile access', 171744163836.061), ('high-frequency data', 171744163836.061), ('global manufacturing', 171744163836.061), ('professional codes', 171744163836.061), ('different geometries', 171744163836.061), ('single neurons', 171744163836.061), ('spherical quantum', 171744163836.061), ('global supply', 171744163836.061), ('indoor environments', 171744163836.061), ('robust implementation', 171744163836.061), ('biometric system', 171744163836.061), ('ecological systems', 171744163836.061), ('intertemporal choice', 171744163836.061), ('neural systems', 171744163836.061), ('technological design', 171744163836.061), ('fluid mechanics', 171744163836.061), ('online game', 171190721817.23083), ('industrial applications', 170797999695.9289), ('mobile networks', 170797999695.9289), ('smart city', 170797999695.9289), ('embedded systems', 170797999695.9289), ('public policy', 170797999695.9289), ('service-oriented software', 170797999695.9289), ('markov decision', 170797999695.9289), ('open innovation', 170797999695.9289), ('secure software', 170797999695.9289), ('atomistic simulations', 170797999695.9289), ('longitudinal networks', 170797999695.9289), ('conceptual modeling', 169649401820.6587), ('digital library', 169649401820.6587), ('biological resources', 168466706739.05746), ('linear models', 168146313561.01566), ('semi-infinite optimization', 167728237111.05038), ('optimal design', 166507206515.40686), ('parallel computers', 166316937964.00687), ('adaptive control', 165928800199.34076), ('robust optimization', 163283157050.74393), ('semicontinuous distillation', 162560181217.00378), ('complex data', 162405263096.29474), ('differential equations', 161044893022.65332), ('positive responsibility', 161044893022.65332), ('large-scale chemical', 160697235520.21103), ('electron-positron annihilation', 159089720821.9271), ('first principles', 159026830451.65994), ('porous materials', 158333033697.59152), ('total site', 158229275867.54282), ('finite difference', 157585817600.6909), ('fibrous media', 156242837638.59836), ('numerical renormalization', 156242837638.59836), ('electrostatic problems', 156242837638.59836), ('object-oriented software', 156242837638.59836), ('industrial automation', 156242837638.59836), ('social robotics', 156242837638.59836), ('social robots', 156242837638.59836), ('infinite games', 156242837638.59836), ('knowledge-based systems', 156242837638.59836), ('chaotic time', 156242837638.59836), ('magnetic confinement', 156242837638.59836), ('multi-purpose batch', 156242837638.59836), ('retail assortment', 156242837638.59836), ('heterogeneous parallel', 156242837638.59836), ('personalized web', 156242837638.59836), ('normal-form games', 156242837638.59836), ('cooperative games', 156242837638.59836), ('electrical engineering', 156242837638.59836), ('binary systems', 156242837638.59836), ('flash-based storage', 156242837638.59836), ('top management', 156242837638.59836), ('agent-based systems', 156242837638.59836), ('combinatorial auctions', 156242837638.59836), ('magnetohydrodynamic turbulence', 156242837638.59836), ('electronic marketplaces', 156242837638.59836), ('atomic calculations', 156242837638.59836), ('electronic systems', 156242837638.59836), ('discrete-event modeling', 156242837638.59836), ('incompressible flows', 156242837638.59836), ('visual flight', 156242837638.59836), ('mutual funds', 156242837638.59836), ('strategic consumers', 155207784807.48306), ('complex geometries', 154811050674.62198), ('network-level characteristics', 154575861026.30847), ('stochastic programming', 153860149254.81412), ('evolutionary computation', 152867263719.32782), ('smart cities', 152742229317.96893), ('biomedical sciences', 152742229317.96893), ('architectural design', 152742229317.96893), ('hard disk', 152742229317.96893), ('operational test', 152742229317.96893), ('retail stores', 152742229317.96893), ('fuzzy systems', 152672157716.57678), ('incomplete markets', 152623646011.0711), ('chemical reactions', 152623646011.0711), ('agent-based modeling', 152623646011.0711), ('diagnostic rhyme', 151813012351.8812), ('biomedical systems', 151813012351.8812), ('nonlinear programs', 151813012351.8812), ('smart mobility', 151813012351.8812), ('online engineering', 151813012351.8812), ('complex projects', 151813012351.8812), ('multimodal research', 151813012351.8812), ('fast networks', 151813012351.8812), ('mesoscopic conductors', 151813012351.8812), ('ising-type lattice', 151813012351.8812), ('peer-based systems', 151813012351.8812), ('temporal discounting', 151813012351.8812), ('large team', 151813012351.8812), ('economic model', 151813012351.8812), ('two-armed bandits', 151813012351.8812), ('large-scale evacuation', 151813012351.8812), ('social communication', 151813012351.8812), ('optimal production', 151813012351.8812), ('islamic communities', 151813012351.8812), ('manual tracking', 151813012351.8812), ('micro-patterned fluidic', 151813012351.8812), ('continuous models', 151813012351.8812), ('spatial risk', 151813012351.8812), ('geometric constraint', 151813012351.8812), ('infrastructure-based networks', 151813012351.8812), ('artistic sketching', 151813012351.8812), ('ethical risk', 151813012351.8812), ('different layouts', 151813012351.8812), ('visual interfaces', 151813012351.8812), ('immersive technologies', 151813012351.8812), ('competitive environments', 151813012351.8812), ('cfd simulations', 151813012351.8812), ('legal practice', 151813012351.8812), ('general readership', 151813012351.8812), ('passive microwave', 151813012351.8812), ('small firms', 151813012351.8812), ('spherical film', 151813012351.8812), ('electoral competition', 151813012351.8812), ('modular robots', 151813012351.8812), ('systematic reviews', 151813012351.8812), ('dynamic dispatching', 151813012351.8812), ('multi-organization environments', 151813012351.8812), ('parliamentary democracies', 151813012351.8812), ('active microrheology', 151813012351.8812), ('upper ionosphere', 151813012351.8812), ('dynamic endowment', 151813012351.8812), ('unsegregated airspace', 151813012351.8812), ('lexicographical order', 151813012351.8812), ('social collaboration', 151813012351.8812), ('random line', 151813012351.8812), ('plain view', 151813012351.8812), ('finite-dimensional vector', 151813012351.8812), ('retail services', 151813012351.8812), ('non-circular cross-section', 151813012351.8812), ('tight oil', 151813012351.8812), ('serial lines', 151813012351.8812), ('multitier supply', 151813012351.8812), ('windshear conditions', 151813012351.8812), ('primary education', 151813012351.8812), ('ubiquitous platforms', 151813012351.8812), ('biotechnological processing', 151813012351.8812), ('elastic pipes', 151813012351.8812), ('sozio-technischen systemen', 151813012351.8812), ('transient regime', 151813012351.8812), ('sine-gordon model', 151813012351.8812), ('antennal lobe', 151813012351.8812), ('biopharmaceutical bioreactors', 151813012351.8812), ('high-throughput discovery', 151813012351.8812), ('binary choices', 151813012351.8812), ('manual control', 151813012351.8812), ('spherical vessels', 151813012351.8812), ('live broadcasting', 151813012351.8812), ('analytical domains', 151813012351.8812), ('medical information', 151813012351.8812), ('open ocean', 151813012351.8812), ('global supplier', 151813012351.8812), ('diverse environments', 151813012351.8812), ('model-based parameter', 151813012351.8812), ('hylleraas basis', 151813012351.8812), ('molten steel', 151813012351.8812), ('mean-field oscillator', 151813012351.8812), ('underdense plasmas', 151813012351.8812), ('malaysian universities', 151813012351.8812), ('biomedical publishing', 151813012351.8812), ('differential proteomics', 151813012351.8812), ('ims-based networks', 151813012351.8812), ('adaptive learning', 151813012351.8812), ('isi-indexed journals', 151813012351.8812), ('collaborative networks', 151813012351.8812), ('em-pic simulations', 151813012351.8812), ('m-business applications', 151813012351.8812), ('wireless computing', 151813012351.8812), ('quantum wells', 151813012351.8812), ('organizational decision', 151813012351.8812), ('economic domains', 151813012351.8812), ('interactive art', 151813012351.8812), ('modular software', 151813012351.8812), ('performance-based advertising', 151813012351.8812), ('real-time simulation', 151813012351.8812), ('prosocial activities', 151813012351.8812), ('magnetic coordinates', 151813012351.8812), ('off-line adp', 151813012351.8812), ('technology-mediated communication', 151813012351.8812), ('myopic economies', 151813012351.8812), ('online travel', 151813012351.8812), ('non-biomedical sciences', 151813012351.8812), ('principal-multi-agent problems', 151813012351.8812), ('three-player games', 151813012351.8812), ('under-vaccinated communities', 151813012351.8812), ('one-dimensional cavities', 151813012351.8812), ('ionic homeostasis', 151813012351.8812), ('minimum cost', 151813012351.8812), ('intracranial aneurysms', 151813012351.8812), ('isoelastic adoption', 151813012351.8812), ('cortical networks', 151813012351.8812), ('networked communities', 151813012351.8812), ('online groups', 151813012351.8812), ('periodic potentials', 151813012351.8812), ('strategy-proof object', 151813012351.8812), ('agent-directed simulations', 151813012351.8812), ('cooperative multirobot', 151813012351.8812), ('sender-receiver games', 151813012351.8812), ('hydrologic models', 151813012351.8812), ('undergraduate chemical', 151813012351.8812), ('persuasive telehealth', 151813012351.8812), ('consolidated supply', 151813012351.8812), ('mobile robotics', 151813012351.8812), ('private-value auctions', 151813012351.8812), ('corporate finance', 151813012351.8812), ('landslide-prone areas', 151813012351.8812), ('scheduling multiprocessor systems', 44523.69543991805), ('relational models', 35524.845005649266), ('moving objects databases', 22261.847719959023), ('scientific misconduct', 16892.57174339246), ('nonlinear processes', 16792.410217260545), ('dynamic optimization', 16704.243512633806), ('smoothed particle hydrodynamics', 15492.7611931971), ('distributed sensor systems', 14841.231813306013), ('simulating emergency events', 14841.231813306013), ('learning object repositories', 14841.231813306013), ('responsible research', 14143.917466500992), ('public goods', 14143.917466500992), ('electric vehicles', 14043.755944745359), ('spatial constraint', 14043.755944745359), ('high speed', 13947.088692099938), ('future research', 13920.202927194838), ('hadronic production', 13920.202927194838), ('embedded systems design', 12293.662990893605), ('simulation-based optimization', 12125.408896027455), ('infinite horizon', 12125.408896027455), ('physical design', 12125.408896027455), ('particle-in-cell simulations', 12125.408896027455), ('pharmaceutical product', 12125.408896027455), ('hybrid system', 12125.408896027455), ('multicomponent distillation', 11542.042331120681), ('social systems', 11542.042331120681), ('discrete-event systems', 11542.042331120681), ('computational intelligence', 11498.918893797532), ('renewable energy', 11498.918893797532), ('strategic customers', 11479.311271163007), ('genetic algorithm', 11465.794911319124), ('stationary equilibrium', 11295.101669408155), ('large numbers', 11295.101669408155), ('global sensitivity', 11295.101669408155), ('optical tweezers', 11295.101669408155), ('industrial process', 11295.101669408155), ('linear interval', 11295.101669408155), ('biological sequences', 11194.940144840364), ('second order', 11194.940144840364), ('stochastic processes', 11194.940144840364), ('continuous media', 11194.940144840364), ('hamiltonian systems', 11194.940144840364), ('unmanned aircraft', 11194.940144840364), ('diatomic molecules', 11194.940144840364), ('continuous processes', 11194.940144840364), ('geographic data', 11194.940144840364), ('new products', 11194.940144840364), ('dynamic system', 11194.940144840364), ('spatial access', 11136.162341755873), ('content-based image', 11136.162341755873), ('heavy quarkonium', 11136.162341755873), ('sustainable design', 11094.778610748619), ('dynamic simulation', 11094.778610748619), ('least squares', 11094.778610748619), ('higher order', 10501.690369374168), ('vintage capital', 10354.37656487111), ('secondary market', 10354.37656487111), ('segmented markets', 10354.37656487111), ('military simulations', 10354.37656487111), ('after-sales service', 10354.37656487111), ('case-based reasoning', 10354.37656487111), ('cloud services', 10354.37656487111), ('molecular biology', 10354.37656487111), ('mixed precision', 10354.37656487111), ('surrogate models', 10354.37656487111), ('dynamical overlap', 10354.37656487111), ('crystal growth', 10238.323952475846), ('interval analysis', 10238.323952475846), ('virtual environment', 9738.571522416989), ('fuzzy sets', 9681.446955300771), ('mixed membership', 9524.069115072389), ('public transportation', 9497.487785717474), ('unified modeling', 9497.487785717474), ('public administration', 9497.487785717474), ('workflow management', 9497.487785717474), ('intellectual property', 9497.487785717474), ('early-stage equity', 9497.487785717474), ('multi-tenant data', 9497.487785717474), ('high-frequency microrheology', 9497.487785717474), ('multi-item inventory', 9497.487785717474), ('general hospitals', 9497.487785717474), ('duplex pressure', 9497.487785717474), ('emotional computation', 9497.487785717474), ('portal information', 9497.487785717474), ('thermal sorption', 9497.487785717474), ('indo-china languages', 9497.487785717474), ('strategic asset', 9497.487785717474), ('financial services', 9497.487785717474), ('tubular photobioreactors', 9497.487785717474), ('network-creation games', 9497.487785717474), ('non-compact spaces', 9497.487785717474), ('incompressible flow', 9497.487785717474), ('open agent', 9497.487785717474), ('non-destructive testing', 9497.487785717474), ('interval branch', 9497.487785717474), ('corporate bond', 9497.487785717474), ('isoperibolic batch', 9497.487785717474), ('extended regularizations', 9497.487785717474), ('macro-finance models', 9497.487785717474), ('extensive air', 9497.487785717474), ('trickle-bed reactors', 9497.487785717474), ('oil-rim reservoirs', 9497.487785717474), ('global transmissions', 9497.487785717474), ('heterogeneous catalysis', 9497.487785717474), ('non-rectangular domains', 9497.487785717474), ('continuous operating', 9497.487785717474), ('portal design', 9497.487785717474), ('exploratory search', 9497.487785717474), ('elastic ep-scattering', 9497.487785717474)]"
   ]
  },
  {
   "cell_type": "code",
   "execution_count": null,
   "metadata": {},
   "outputs": [],
   "source": [
    "prdr"
   ]
  },
  {
   "cell_type": "code",
   "execution_count": null,
   "metadata": {
    "scrolled": true
   },
   "outputs": [],
   "source": [
    "wiki_wiki = wikipediaapi.Wikipedia('en')\n",
    "\n",
    "words = set()\n",
    "def print_categorymembers(categorymembers, level=0, max_level=3):\n",
    "        for c in categorymembers.values():\n",
    "            if 'Template:' not in c.title and 'File:' not in c.title and'Category:' in c.title:\n",
    "                    word = c.title.split(':')[-1]\n",
    "                    words.add(word)\n",
    "                    print(word)\n",
    "                    if c.ns == wikipediaapi.Namespace.CATEGORY and level < max_level:\n",
    "                        print_categorymembers(c.categorymembers, level=level + 1, max_level=max_level)\n",
    "\n",
    "                \n",
    "\n",
    "cat = wiki_wiki.page(\"Category:Computer science\")\n",
    "print(\"Category members: Category:Computer science\")\n",
    "print_categorymembers(cat.categorymembers)"
   ]
  },
  {
   "cell_type": "code",
   "execution_count": null,
   "metadata": {},
   "outputs": [],
   "source": [
    "wikipedia.search(\"bidirectional lstm\", results=5, suggestion=True)"
   ]
  },
  {
   "cell_type": "code",
   "execution_count": null,
   "metadata": {},
   "outputs": [],
   "source": [
    "wikipedia.search(\"dual stream\", results=5, suggestion=True)"
   ]
  },
  {
   "cell_type": "code",
   "execution_count": null,
   "metadata": {},
   "outputs": [],
   "source": [
    "cs_categories = set()\n",
    "with open('../final_stuff/data/wikipedia_reference/cs_categories.txt', 'r') as f:\n",
    "    for line in f:\n",
    "        cs_categories.add(line[:-1])"
   ]
  },
  {
   "cell_type": "code",
   "execution_count": null,
   "metadata": {},
   "outputs": [],
   "source": [
    "cs_categories"
   ]
  },
  {
   "cell_type": "code",
   "execution_count": null,
   "metadata": {},
   "outputs": [],
   "source": [
    "from collections import defaultdict"
   ]
  },
  {
   "cell_type": "code",
   "execution_count": null,
   "metadata": {},
   "outputs": [],
   "source": [
    "wiki_wiki = wikipediaapi.Wikipedia('en')\n",
    "def is_relevant_to_cs(candidate):\n",
    "    relevant_pages = set()\n",
    "    for suggested_page in wikipedia.search(candidate, results=20, suggestion=False):\n",
    "        for word in wiki_wiki.page(suggested_page).categories:\n",
    "            word = word[9:]\n",
    "            if word in cs_categories:\n",
    "                relevant_pages.add(suggested_page)\n",
    "                break\n",
    "    return (len(relevant_pages))"
   ]
  },
  {
   "cell_type": "code",
   "execution_count": null,
   "metadata": {},
   "outputs": [],
   "source": [
    "is_relevant_to_cs('neural network')"
   ]
  },
  {
   "cell_type": "code",
   "execution_count": null,
   "metadata": {},
   "outputs": [],
   "source": [
    "wiki_wiki.page('Long short-term memory').categories"
   ]
  },
  {
   "cell_type": "code",
   "execution_count": null,
   "metadata": {},
   "outputs": [],
   "source": [
    "prdr_0"
   ]
  },
  {
   "cell_type": "code",
   "execution_count": null,
   "metadata": {},
   "outputs": [],
   "source": [
    "import wikipedia\n",
    "import urllib\n",
    "from urllib.error import HTTPError\n",
    "import difflib\n",
    "import spacy\n",
    "import datetime\n",
    "import numpy as np\n",
    "\n",
    "nlp = spacy.load(\"en_core_web_md\")"
   ]
  },
  {
   "cell_type": "code",
   "execution_count": null,
   "metadata": {},
   "outputs": [],
   "source": [
    "def get_sets(words_set, mode):\n",
    "    good = set()\n",
    "    bad = set()\n",
    "    very_bad = set()\n",
    "    \n",
    "    for i, word in enumerate(words_set):\n",
    "        try:\n",
    "            url_suffix = (word.replace(\" \", \"_\").replace(\"-\", \"_\")).capitalize()\n",
    "            url = \"https://en.wikipedia.org/wiki/\" + url_suffix\n",
    "            status = 0\n",
    "            try:\n",
    "                code = urllib.request.urlopen(url).getcode()\n",
    "                if code == 200:\n",
    "                    good.add(word)\n",
    "                    status = 1\n",
    "            except HTTPError:\n",
    "                if status == 0 and word[-1] == 's' and len(word.split(\" \")) > 1:\n",
    "                    url = url[:-1]\n",
    "                    try:\n",
    "                        code = urllib.request.urlopen(url).getcode()\n",
    "                        if code == 200:\n",
    "                            good.add(word)\n",
    "                            status = 1\n",
    "                    except HTTPError:\n",
    "                        bad.add(word)\n",
    "            print(\"Ran \" + str(i + 1) + \"... Keyword: \" + word + \" URL: \" + url + \" Status: \" + str(status))\n",
    "        except:\n",
    "            very_bad.add(word)\n",
    "    \n",
    "    probably_good = set()\n",
    "    for word in words_set.difference(good):\n",
    "        query = word.replace(\"-\", \" \").lower()\n",
    "        query_tok = nlp(query)\n",
    "        values = []\n",
    "        for result in wikipedia.search(query):\n",
    "            result_tok = nlp(result.lower().replace(\"-\", \" \"))\n",
    "            d = result_tok.similarity(query_tok) * 100 \n",
    "            values.append(d)\n",
    "        if len(values) != 0:\n",
    "            print(\"Rechecking... \" + \"Keyword: \" + word + \" Max Similarity: \" + str(max(values)))\n",
    "            if max(values) > 80.0:\n",
    "                probably_good.add(word)\n",
    "\n",
    "    return good, probably_good\n",
    "\n",
    "def get_precision(words_set, mode, good=None, probably_good=None):\n",
    "    if good is None or probably_good is None:\n",
    "        good, probably_good = get_sets(words_set, mode)\n",
    "    precision = ((len(good) + len(probably_good)) / len(words_set)) * 100.0\n",
    "    return precision, good, probably_good\n",
    "\n",
    "def get_recall(prdr_good_set, ap_good_set):\n",
    "    if prdr_good_set is None or ap_good_set is None:\n",
    "        return None\n",
    "    prdr_recall = (len(prdr_good_set))/(len(prdr_good_set.union(ap_good_set))) * 100.0\n",
    "    ap_recall = (len(prdr_good_set))/(len(prdr_good_set.union(ap_good_set))) * 100.0\n",
    "    return prdr_recall, ap_recall"
   ]
  },
  {
   "cell_type": "code",
   "execution_count": null,
   "metadata": {
    "scrolled": true
   },
   "outputs": [],
   "source": [
    "prec, good_set, prolly_good_set = get_precision(prdr_0, 0, None, None)"
   ]
  },
  {
   "cell_type": "code",
   "execution_count": null,
   "metadata": {},
   "outputs": [],
   "source": [
    "prolly_good_set"
   ]
  },
  {
   "cell_type": "code",
   "execution_count": null,
   "metadata": {},
   "outputs": [],
   "source": [
    "bad_set = prdr_0.difference(good_set.union(prolly_good_set))"
   ]
  },
  {
   "cell_type": "code",
   "execution_count": null,
   "metadata": {},
   "outputs": [],
   "source": [
    "good_w_labels = [(word, is_relevant_to_cs(word)) for word in good_set]\n",
    "prolly_good_w_labels = [(word, is_relevant_to_cs(word)) for word in prolly_good_set]\n",
    "bad_w_labels = [(word, is_relevant_to_cs(word)) for word in bad_set]"
   ]
  },
  {
   "cell_type": "code",
   "execution_count": null,
   "metadata": {},
   "outputs": [],
   "source": [
    "best_words = [word for (word, score) in (good_w_labels + prolly_good_w_labels) if score > 12]"
   ]
  },
  {
   "cell_type": "code",
   "execution_count": null,
   "metadata": {},
   "outputs": [],
   "source": [
    "l = [score for (word, score) in prolly_good_w_labels]\n",
    "sum(l)/len(l)"
   ]
  },
  {
   "cell_type": "code",
   "execution_count": null,
   "metadata": {
    "scrolled": true
   },
   "outputs": [],
   "source": [
    "best_words"
   ]
  },
  {
   "cell_type": "code",
   "execution_count": null,
   "metadata": {},
   "outputs": [],
   "source": [
    "prdr = [('constraint programming', 1.0e+25), ('natural language processing', 1.0e+25), ('distributed database systems', 1.0e+25), ('machine learning', 1.0e+25), ('artificial intelligence', 1.0e+25), ('interface applications', 4.146975864728949e+20), ('signal processing', 7.801448871916868e+19), ('stimulation technique', 5.1837198309111865e+19), ('case study', 8.321502256481229e+17), ('home networks', 5.2042799622007046e+17), ('rights management', 4.439690260366325e+17), ('game design', 2.6021399811003523e+17), ('tv systems', 2.6021399811003523e+17), ('mathematica package', 2.545212638425329e+17), ('simulation study', 2.540560872677103e+17), ('power control', 2.4803804714475952e+17), ('disclosure limitation', 1.5775712572730557e+17), ('machine translation', 1.4000060192602195e+17), ('camera image', 1.2987600175767061e+17), ('array systems', 1.2548697218931867e+17), ('streaming applications', 1.2548697218931867e+17), ('processor systems', 1.2548697218931867e+17), ('space-time modeling', 1.0517141715153706e+17), ('query learning', 1.0517141715153706e+17), ('quality control', 9.881291478995437e+16), ('data management', 9.837665555071701e+16), ('road networks', 9.616125210490646e+16), ('field experiment', 8.908206908248026e+16), ('process control', 7.925987258757995e+16), ('circuit simulation', 7.097577955355297e+16), ('cinema projection', 6.4938000878835304e+16), ('terrain model', 6.4938000878835304e+16), ('python package', 6.481525691957897e+16), ('library service', 6.186887469774107e+16), ('software package', 6.174765001635647e+16), ('data mining', 5.636449655447166e+16), ('system dynamics', 5.5487845978839656e+16), ('equilibrium wealth', 5.258570857576853e+16), ('data editing', 5.258570857576853e+16), ('disclosure control', 5.258570857576853e+16), ('web object', 5.258570857576853e+16), ('learning approaches', 5.258570857576853e+16), ('decision techniques', 5.258570857576853e+16), ('metadata modeling', 5.258570857576853e+16), ('timing analysis', 5.258570857576853e+16), ('data compression', 5.076214002495956e+16), ('shape analysis', 4.9048069065256584e+16), ('software tool', 4.69189104861279e+16), ('social network', 4.649469946357993e+16), ('matlab package', 4.558343332599733e+16), ('literature review', 4.547785577502325e+16), ('pattern recognition', 4.14101689808442e+16), ('hash table', 3.722568392448135e+16), ('file systems', 3.722568392448135e+16), ('decision support', 3.4537047979068336e+16), ('computer program', 3.4110888449327976e+16), ('maple package', 3.4090964598516756e+16), ('simulation model', 3.340069895444041e+16), ('program suite', 3.2407628459789484e+16), ('simulation language', 3.2407628459789484e+16), ('simulation computer', 3.2407628459789484e+16), ('python framework', 3.2407628459789484e+16), ('business perspective', 3.2407628459789484e+16), ('network perspective', 3.2407628459789484e+16), ('program package', 3.2407628459789484e+16), ('laboratory investigation', 3.2407628459789484e+16), ('market design', 3.2407628459789484e+16), ('pilot study', 3.2090170950077896e+16), ('query language', 3.2090170950077896e+16), ('simulation case', 2.9672844363433548e+16), ('bond graph', 2.7939677773919044e+16), ('mechanism design', 2.6514916821990324e+16), ('deadlock management', 2.4817122616320904e+16), ('database design', 2.4817122616320904e+16), ('transaction management', 2.4817122616320904e+16), ('concurrency control', 2.4817122616320904e+16), ('query processing', 2.4011261679991492e+16), ('process mining', 2.364765747728131e+16), ('query optimization', 2.3168687405627544e+16), ('simulation environment', 2.212681484515002e+16), ('simulation approach', 2.212681484515002e+16), ('computer simulation', 2.0958994202749604e+16), ('data streams', 2.0882917222524676e+16), ('information systems', 2.0734150621758416e+16), ('database systems', 2.064943126497752e+16), ('knowledge management', 1.9739853448521136e+16), ('software architecture', 1.9181990370728348e+16), ('performance analysis', 1.8109499328898976e+16), ('software development', 1.748625028830727e+16), ('mathematica interface', 1.7261431393205096e+16), ('scheduling perspective', 1.7261431393205096e+16), ('design methodology', 1.7261431393205096e+16), ('modeling strategy', 1.7261431393205096e+16), ('software environment', 1.7261431393205096e+16), ('duality approach', 1.7261431393205096e+16), ('computer code', 1.7261431393205096e+16), ('comparison study', 1.7261431393205096e+16), ('matlab program', 1.7261431393205096e+16), ('simulation tool', 1.7261431393205096e+16), ('computer algebra', 1.6939341276923666e+16), ('research model', 1.6203814229894742e+16), ('nanotube application', 1.6203814229894742e+16), ('python tool', 1.6203814229894742e+16), ('particle approach', 1.6203814229894742e+16), ('stepwise approach', 1.6203814229894742e+16), ('market experiment', 1.6203814229894742e+16), ('database support', 1.6203814229894742e+16), ('research note', 1.6203814229894742e+16), ('safety climate', 1.6203814229894742e+16), ('naturalization proposal', 1.6203814229894742e+16), ('prototyping toolkit', 1.6203814229894742e+16), ('microcomputer system', 1.6203814229894742e+16), ('contest theory', 1.6203814229894742e+16), ('www bibliography', 1.6203814229894742e+16), ('defense system', 1.6203814229894742e+16), ('model specification', 1.6203814229894742e+16), ('survey approach', 1.6203814229894742e+16), ('search agent', 1.6203814229894742e+16), ('piecewise sqp', 1.6203814229894742e+16), ('grid simulation', 1.6203814229894742e+16), ('user interaction', 1.6203814229894742e+16), ('postmortem analysis', 1.6203814229894742e+16), ('compensation perspective', 1.6203814229894742e+16), ('journal pivotal', 1.6203814229894742e+16), ('modeling method', 1.6203814229894742e+16), ('simulation engine', 1.6203814229894742e+16), ('search formulation', 1.6203814229894742e+16), ('parallelization strategy', 1.6203814229894742e+16), ('stakeholder analysis', 1.6203814229894742e+16), ('lyapunov approach', 1.6203814229894742e+16), ('threat index', 1.6203814229894742e+16), ('coverage analysis', 1.6203814229894742e+16), ('field study', 1.6203814229894742e+16), ('disturbance estimation', 1.6203814229894742e+16), ('database workload', 1.6203814229894742e+16), ('cascade code', 1.6203814229894742e+16), ('learning approach', 1.6203814229894742e+16), ('graph theoretic', 1.6203814229894742e+16), ('matlab code', 1.6203814229894742e+16), ('grid middleware', 1.6203814229894742e+16), ('technology diffusion', 1.6203814229894742e+16), ('software code', 1.6203814229894742e+16), ('simulation toolkit', 1.6203814229894742e+16), ('contingency perspective', 1.6203814229894742e+16), ('welfare analysis', 1.6203814229894742e+16), ('gamification approach', 1.6203814229894742e+16), ('grid framework', 1.6203814229894742e+16), ('survival analysis', 1.6203814229894742e+16), ('hostless resource', 1.6203814229894742e+16), ('data structure', 1.6203814229894742e+16), ('color image', 1.6203814229894742e+16), ('laboratory experiment', 1.6203814229894742e+16), ('queueing optimization', 1.6203814229894742e+16), ('python interface', 1.6203814229894742e+16), ('packet classification', 1.6203814229894742e+16), ('research tool', 1.6203814229894742e+16), ('cssl/multiprocessor software', 1.6203814229894742e+16), ('network theory', 1.6203814229894742e+16), ('network optimization', 1.6203814229894742e+16), ('tool chain', 1.6203814229894742e+16), ('form library', 1.6203814229894742e+16), ('cournot convergence', 1.6203814229894742e+16), ('model system', 1.6203814229894742e+16), ('trade benefit', 1.6203814229894742e+16), ('management framework', 1.6203814229894742e+16), ('relax-and-fix method', 1.6203814229894742e+16), ('data plane', 1.6203814229894742e+16), ('python toolkit', 1.6203814229894742e+16), ('mupad program', 1.6203814229894742e+16), ('multiagent rhythm', 1.6203814229894742e+16), ('satisfaction equilibrium', 1.6203814229894742e+16), ('simulation package', 1.6203814229894742e+16), ('map framework', 1.6203814229894742e+16), ('target acquisition', 1.6203814229894742e+16), ('diffusion approach', 1.6203814229894742e+16), ('branch-and-merge approach', 1.6203814229894742e+16), ('level scheme', 1.6203814229894742e+16), ('topic modeling', 1.6203814229894742e+16), ('multiagent simulation', 1.6203814229894742e+16), ('coupling algorithm', 1.6203814229894742e+16), ('database retrieval', 1.6203814229894742e+16), ('glauber model', 1.6203814229894742e+16), ('posix model', 1.6203814229894742e+16), ('saddle-point strategy', 1.6203814229894742e+16), ('gpu implementation', 1.6203814229894742e+16), ('maple implementation', 1.6203814229894742e+16), ('training perspective', 1.6203814229894742e+16), ('transfer pricing', 1.6203814229894742e+16), ('household view', 1.6203814229894742e+16), ('supply chain', 1.5958215572474752e+16), ('cluster analysis', 1.5425903462509652e+16), ('systems analysis', 1.532318886473928e+16), ('laboratory study', 1.4938370913886908e+16), ('web mining', 1.4866988287857634e+16), ('manufacturing simulation', 1.4831513030241284e+16), ('learning analytics', 1.4831474044763326e+16), ('systems engineering', 1.4774405162628016e+16), ('fault diagnosis', 1.4110663490813078e+16), ('monte carlo', 1.3955840322667078e+16), ('tracking control', 1.3701225018593568e+16), ('video coding', 1.2455485285943146e+16), ('logic languages', 1.2408561308160452e+16), ('localization algorithms', 1.2408561308160452e+16), ('channel access', 1.2408561308160452e+16), ('utility estimation', 1.2408561308160452e+16), ('agent software', 1.2408561308160452e+16), ('object management', 1.2408561308160452e+16), ('memory computers', 1.2408561308160452e+16), ('database management', 1.2408561308160452e+16), ('inference making', 1.2408561308160452e+16), ('actuator selection', 1.2408561308160452e+16), ('path planning', 1.2408561308160452e+16), ('parameter model', 1.2408561308160452e+16), ('source coding', 1.2408561308160452e+16), ('response time', 1.2408561308160452e+16), ('averaging control', 1.2408561308160452e+16), ('commit protocol', 1.2408561308160452e+16), ('data aggregation', 1.2408561308160452e+16), ('batch processes', 1.2314940903779054e+16), ('life cycle', 1.2282764209614874e+16), ('storage systems', 1.2159837440569202e+16), ('consensus control', 1.2095960554198706e+16), ('chemical processes', 1.188709160872741e+16), ('process management', 1.1832213266362068e+16), ('computer science', 1.1810483194532302e+16), ('project management', 1.1738708106926798e+16), ('sensor fusion', 1.1578607564220364e+16), ('channel allocation', 1.1573424883274308e+16), ('approximation algorithms', 1.1335300531519736e+16), ('image authentication', 1.1170932661770594e+16), ('crime analysis', 1.1008096269817066e+16), ('query evaluation', 1.1008096269817066e+16), ('science ethics', 1.1008096269817066e+16), ('air separation', 1.1008096269817066e+16), ('engineering students', 1.0755869658686628e+16), ('systems approach', 1.0632109707802062e+16), ('decomposition method', 1.0632109707802062e+16), ('graph theory', 9706385548179472.0), ('game theory', 9624695683931166.0), ('wastewater treatment', 9368211027190742.0), ('business process', 9157173797942294.0), ('information technology', 8715943127460352.0), ('engineering ethics', 8612370798574149.0), ('hydrogen production', 8346529623574833.0), ('intrusion detection', 8346529623574833.0), ('web services', 7984390299556386.0), ('simulation framework', 7974082280851547.0), ('mathematica program', 7974082280851547.0), ('semiconductor manufacturing', 7764783671820566.0), ('emergency management', 7336068345670391.0), ('multiphase flow', 7127442472902311.0), ('process systems', 7036506021182821.0), ('water network', 6931342964915463.0), ('power systems', 6919507954618045.0), ('pressure swing', 6655977831721785.0), ('dimensionality reduction', 6497468087823932.0), ('web service', 6377659671012108.0), ('logic programs', 6212293886701298.0), ('hardware/software codesign', 6146946058630208.0), ('population balance', 6071128380153048.0), ('ethics education', 6061952353788462.0), ('information retrieval', 6060789660701414.0), ('service composition', 6027555057986805.0), ('gas dynamics', 6027555057986805.0), ('feynman integrals', 6027555057986805.0), ('portfolio optimization', 6027555057986805.0), ('task analysis', 6027555057986805.0), ('ambiguity aversion', 6027555057986805.0), ('sequence alignment', 6027555057986805.0), ('pipeline scheduling', 6027555057986805.0), ('option pricing', 6027555057986805.0), ('mobility data', 6027555057986805.0), ('gasoline blend', 6027555057986805.0), ('biomass supply', 5897966637544113.0), ('information aggregation', 5818303953753644.0), ('protein folding', 5787419034383682.0), ('knowledge discovery', 5780508015237102.0), ('communication networks', 5725179094142733.0), ('vehicle routing', 5690950245603535.0), ('user experience', 5673455716845826.0), ('time inconsistency', 5668030482570784.0), ('web users', 5668030482570784.0), ('devs models', 5668030482570784.0), ('ethics training', 5668030482570784.0), ('membrane separation', 5668030482570784.0), ('process design', 5664636602552027.0), ('bose-einstein condensates', 5603912221884363.0), ('optimization problems', 5544367003427009.0), ('protein production', 5504048134908533.0), ('software integration', 5504048134908533.0), ('intention recognition', 5504048134908533.0), ('transport time', 5504048134908533.0), ('safety evaluation', 5504048134908533.0), ('drug substance', 5504048134908533.0), ('control threats', 5504048134908533.0), ('vanilla extract', 5504048134908533.0), ('instruction retargeting', 5504048134908533.0), ('development theory', 5504048134908533.0), ('aircraft simulation', 5504048134908533.0), ('strategy formulation', 5504048134908533.0), ('region detection', 5504048134908533.0), ('connection admission', 5504048134908533.0), ('information services', 5504048134908533.0), ('audience reactions', 5504048134908533.0), ('queueing conflicts', 5504048134908533.0), ('box office', 5504048134908533.0), ('supply disruptions', 5504048134908533.0), ('grid resources', 5504048134908533.0), ('game playing', 5504048134908533.0), ('performance modelling', 5504048134908533.0), ('quality competition', 5504048134908533.0), ('memory deduplication', 5504048134908533.0), ('commodity chemicals', 5504048134908533.0), ('high-resolution displays', 5504048134908533.0), ('hospital wards', 5504048134908533.0), ('theory formation', 5504048134908533.0), ('insurance fraud', 5504048134908533.0), ('computer animation', 5504048134908533.0), ('knowledge system', 5504048134908533.0), ('network evolution', 5504048134908533.0), ('unit activity', 5504048134908533.0), ('communication loss', 5504048134908533.0), ('truss structures', 5504048134908533.0), ('kidney exchange', 5504048134908533.0), ('task allocation', 5504048134908533.0), ('currency crises', 5504048134908533.0), ('replay attacks', 5504048134908533.0), ('align competences', 5504048134908533.0), ('cell formation', 5504048134908533.0), ('pyrolysis reaction', 5504048134908533.0), ('interval map', 5504048134908533.0), ('technology transfer', 5504048134908533.0), ('text representation', 5504048134908533.0), ('uncertainty analysis', 5504048134908533.0), ('2d test', 5504048134908533.0), ('text indexing', 5504048134908533.0), ('electricity technologies', 5504048134908533.0), ('web semantics', 5504048134908533.0), ('mineral processing', 5504048134908533.0), ('noise ratio', 5504048134908533.0), ('renewables integration', 5504048134908533.0), ('signal quality', 5504048134908533.0), ('optimization modeling', 5504048134908533.0), ('occupancy modeling', 5504048134908533.0), ('security risk', 5504048134908533.0), ('state stability', 5504048134908533.0), ('board independence', 5504048134908533.0), ('density matrices', 5504048134908533.0), ('building blocks', 5504048134908533.0), ('\"configuration interactions', 5504048134908533.0), ('virtue ethics', 5504048134908533.0), ('finance matter', 5504048134908533.0), ('decision assessment', 5504048134908533.0), ('power plants', 5504048134908533.0), ('admission control', 5504048134908533.0), ('web design', 5504048134908533.0), ('opportunity costs', 5504048134908533.0), ('distillation modelling', 5504048134908533.0), ('credit defaults', 5504048134908533.0), ('deuterium anneal', 5504048134908533.0), ('activity modeling', 5504048134908533.0), ('power production', 5504048134908533.0), ('market microstructure', 5504048134908533.0), ('legacy infrastructures', 5504048134908533.0), ('media analysis', 5504048134908533.0), ('probability densities', 5504048134908533.0), ('model building', 5504048134908533.0), ('traffic performance', 5504048134908533.0), ('junk science', 5504048134908533.0), ('merger announcements', 5504048134908533.0), ('staff plagiarism', 5504048134908533.0), ('equidistribution methods', 5504048134908533.0), ('author reviews', 5504048134908533.0), ('trace curves', 5504048134908533.0), ('sensitivity generation', 5504048134908533.0), ('model world', 5504048134908533.0), ('job outcomes', 5504048134908533.0), ('pavement engineering', 5504048134908533.0), ('model network', 5504048134908533.0), ('skin layer', 5504048134908533.0), ('knowledge resources', 5504048134908533.0), ('localization problems', 5504048134908533.0), ('text translation', 5504048134908533.0), ('gas-compressor stations', 5504048134908533.0), ('image indexing', 5504048134908533.0), ('technology strategy', 5504048134908533.0), ('resolution changes', 5504048134908533.0), ('database scalability', 5504048134908533.0), ('liquid (cbgtl', 5504048134908533.0), ('uncertainty quantification', 5504048134908533.0), ('market leadership', 5504048134908533.0), ('radiation symmetry', 5504048134908533.0), ('music piracy', 5504048134908533.0), ('information structure', 5504048134908533.0), ('university spin-offs', 5504048134908533.0), ('public-key cryptography', 5504048134908533.0), ('student emotion', 5504048134908533.0), ('technology development', 5476199211056763.0), ('water management', 5388934942370120.0), ('electricity markets', 5388934942370120.0), ('service systems', 5371920580766520.0), ('sensor network', 5329421476034746.0), ('performance indicators', 5326811301489212.0), ('simulation methodology', 5316054853901031.0), ('prototype implementation', 5316054853901031.0), ('decomposition framework', 5316054853901031.0), ('branch-and-bound algorithm', 5316054853901031.0), ('branch-and-price approach', 5316054853901031.0), ('modeling methodology', 5316054853901031.0), ('security framework', 5316054853901031.0), ('branch-and-price algorithm', 5316054853901031.0), ('drug development', 5310776420562424.0), ('fusion plasmas', 5310776420562424.0), ('chemical reaction', 5299461896653306.0), ('face recognition', 5259007359802913.0), ('supply chains', 5256920668570229.0), ('materials science', 5217272043163270.0), ('congestion games', 5217272043163270.0), ('customer relationship', 5217272043163270.0), ('ethics instruction', 5217272043163270.0), ('product engineering', 5217272043163270.0), ('web search', 5156319544965788.0), ('knowledge sharing', 5078180531264852.0), ('data integration', 5066844029712758.0), ('stock returns', 4843261732958137.0), ('team performance', 4835550468387056.0), ('graph clustering', 4826016983868558.0), ('data warehouse', 4812603202577221.0), ('recommender systems', 4716604149744044.0), ('stock market', 4702496504361925.0), ('data warehouses', 4656167977223047.0), ('web data', 4573690556457487.0), ('business processes', 4541111331191427.0), ('parameter estimation', 4532002342248952.0), ('sensor networks', 4468157187213417.0), ('batch plants', 4370063388441570.5), ('business intelligence', 4344152345944858.5), ('data disclosure', 4248078338780198.5), ('product design', 4241409638087951.0), ('life science', 4159413519398056.5), ('service (qos', 4093141043131257.0), ('interval matrices', 4093141043131257.0), ('lattice boltzmann', 4077741364557443.5), ('heat exchanger', 4052820477018002.5), ('web portals', 3924606194323102.0), ('state estimation', 3919403256319973.0), ('information security', 3901202326927628.5), ('fraud detection', 3884010617103637.5), ('stream ciphers', 3884010617103637.5), ('chaos analysis', 3884010617103637.5), ('performance evaluation', 3830896524027836.0), ('power quality', 3799889143256223.0), ('information goods', 3799889143256223.0), ('user interface', 3799889143256223.0), ('simulation analysis', 3788958582785692.0), ('simulation modeling', 3773129962849929.5), ('space station', 3642060588065440.0), ('data distribution', 3605160916371511.5), ('research misconduct', 3564958187265575.0), ('multipurpose batch', 3399900960353954.0), ('performance comparison', 3341575642088473.0), ('web usage', 3341575642088473.0), ('time petri', 3341575642088473.0), ('injection molding', 3304908738210504.0), ('chemical process', 3263962841120726.5), ('chemical production', 3255625940331223.5), ('process monitoring', 3246915201881870.5), ('data reconciliation', 3236835725947947.0), ('perturbed oscillators', 3219122282640070.5), ('process simulation', 3195410324487431.5), ('web information', 3194319864734234.0), ('simulation models', 3155728513060164.5), ('energy systems', 3120501316844016.0), ('fault detection', 3065598073033689.0), ('data stream', 2991868336438139.5), ('web applications', 2970398786238740.5), ('batch process', 2932405970271757.0), ('systems management', 2925105303528808.0), ('computer systems', 2915965522027454.5), ('data privacy', 2913007962827728.0), ('spam filtering', 2913007962827728.0), ('application development', 2913007962827728.0), ('performance improvement', 2913007962827728.0), ('internet applications', 2913007962827728.0), ('multistage stochastic', 2913007962827728.0), ('quality assurance', 2913007962827728.0), ('sentiment analysis', 2913007962827728.0), ('probability measures', 2896101563963239.0), ('process scheduling', 2804865594696407.5), ('particle simulations', 2804865594696407.5), ('community detection', 2803431995349140.0), ('production scheduling', 2792666513253378.5), ('process synthesis', 2749349483077157.0), ('biodiesel production', 2733755438549824.5), ('water distribution', 2732043169287164.5), ('multimedia content', 2731972916144101.5), ('stability analysis', 2730361623836988.5), ('resource allocation', 2728118135275922.5), ('rheed intensity', 2722895299693708.5), ('water networks', 2666984100722302.0), ('tool support', 2658027426950515.5), ('programming model', 2658027426950515.5), ('web navigation', 2658027426950515.5), ('convex relaxation', 2658027426950515.5), ('controller architecture', 2658027426950515.5), ('reference implementation', 2658027426950515.5), ('hybrid ga-sqp', 2658027426950515.5), ('decomposition algorithm', 2658027426950515.5), ('model elimination', 2658027426950515.5), ('prolog simulator', 2658027426950515.5), ('modeling tool', 2658027426950515.5), ('transport simulation', 2658027426950515.5), ('transmission matrix', 2658027426950515.5), ('paradigm shift', 2658027426950515.5), ('parallelization scheme', 2658027426950515.5), ('utility threshold', 2658027426950515.5), ('maturity model', 2658027426950515.5), ('cluster algorithm', 2658027426950515.5), ('port simulation', 2658027426950515.5), ('multicomputer software', 2658027426950515.5), ('perturbation method', 2658027426950515.5), ('bargaining framework', 2658027426950515.5), ('content-incentive-usability framework', 2658027426950515.5), ('test electron', 2658027426950515.5), ('classification scheme', 2658027426950515.5), ('simulation method', 2658027426950515.5), ('capability maturity', 2658027426950515.5), ('management system', 2658027426950515.5), ('decomposition approach', 2658027426950515.5), ('matrix method', 2658027426950515.5), ('method engineering', 2658027426950515.5), ('usability study', 2658027426950515.5), ('framework analysis', 2658027426950515.5), ('value co-creation', 2658027426950515.5), ('bifurcation approach', 2658027426950515.5), ('multiscale systems', 2658027426950515.5), ('motion cueing', 2658027426950515.5), ('college admissions', 2658027426950515.5), ('multisensor technique', 2658027426950515.5), ('tool box', 2658027426950515.5), ('particle scale', 2658027426950515.5), ('transistor level', 2658027426950515.5), ('state action', 2658027426950515.5), ('postponement model', 2658027426950515.5), ('simulation assistant', 2658027426950515.5), ('tutor agent', 2658027426950515.5), ('knowledge process', 2658027426950515.5), ('bargaining model', 2658027426950515.5), ('calculation procedure', 2658027426950515.5), ('proposal model', 2658027426950515.5), ('regression approach', 2658027426950515.5), ('monitoring system', 2658027426950515.5), ('limit characterization', 2658027426950515.5), ('superspace module', 2658027426950515.5), ('graph partitioning', 2658027426950515.5), ('branch-and-cut method', 2658027426950515.5), ('video presentation', 2658027426950515.5), ('performance study', 2658027426950515.5), ('citation analysis', 2658027426950515.5), ('reduce program', 2658027426950515.5), ('domain-decomposition method', 2658027426950515.5), ('pomdp framework', 2658027426950515.5), ('factorization algorithm', 2658027426950515.5), ('time stamp', 2658027426950515.5), ('software stimulator', 2658027426950515.5), ('scheduling algorithm', 2658027426950515.5), ('low-dissipation finite-volume', 2658027426950515.5), ('software interface', 2658027426950515.5), ('state event', 2658027426950515.5), ('committee machine', 2658027426950515.5), ('fractiles perspective', 2658027426950515.5), ('threshold inventory', 2658027426950515.5), ('co-simulation method', 2658027426950515.5), ('robot model', 2658027426950515.5), ('codesign case', 2658027426950515.5), ('majority vote', 2658027426950515.5), ('pdp approach', 2658027426950515.5), ('market discovery', 2658027426950515.5), ('nonequilibrium model', 2658027426950515.5), ('supplier portal', 2658027426950515.5), ('network model', 2658027426950515.5), ('queueing analysis', 2658027426950515.5), ('visualization method', 2658027426950515.5), ('particle motion', 2658027426950515.5), ('performance simulation', 2658027426950515.5), ('calibration procedure', 2658027426950515.5), ('biomolecular electrostatics', 2658027426950515.5), ('fdtd analysis', 2658027426950515.5), ('multistream heat', 2658027426950515.5), ('coherence analysis', 2658027426950515.5), ('cokosnut code', 2658027426950515.5), ('separation principle', 2658027426950515.5), ('branch-and-bound decomposition', 2658027426950515.5), ('shortcut method', 2658027426950515.5), ('semantic-syntax model', 2658027426950515.5), ('two-stage algorithm', 2658027426950515.5), ('feature logic', 2658027426950515.5), ('forest canopy', 2658027426950515.5), ('modal µ-calculus', 2658027426950515.5), ('search algorithm', 2658027426950515.5), ('haar wavelet', 2658027426950515.5), ('sustainability root', 2658027426950515.5), ('particle localization', 2658027426950515.5), ('pdevs simulator', 2658027426950515.5), ('coherence space', 2658027426950515.5), ('phase space', 2658027426950515.5), ('process simulator', 2658027426950515.5), ('no-arbitrage analysis', 2658027426950515.5), ('multiechelon inventory', 2658027426950515.5), ('comparison framework', 2658027426950515.5), ('simulator design', 2658027426950515.5), ('perturbation approach', 2658027426950515.5), ('correspondence principle', 2658027426950515.5), ('gesture learning', 2658027426950515.5), ('decomposition methodology', 2658027426950515.5), ('multiprocessor system', 2658027426950515.5), ('point-of-interest recommendation', 2658027426950515.5), ('simulation procedure', 2658027426950515.5), ('default extension', 2658027426950515.5), ('splitting integration', 2658027426950515.5), ('multiagent architecture', 2658027426950515.5), ('phase transition', 2658027426950515.5), ('linearization method', 2658027426950515.5), ('java application', 2658027426950515.5), ('cell population', 2658027426950515.5), ('modeling framework', 2658027426950515.5), ('methodology proposal', 2658027426950515.5), ('cat tool', 2658027426950515.5), ('multiprocessor soc', 2658027426950515.5), ('state task', 2658027426950515.5), ('construction method', 2658027426950515.5), ('privacy service', 2658027426950515.5), ('likelihood approach', 2658027426950515.5), ('functional-pca approach', 2658027426950515.5), ('product theorem', 2658027426950515.5), ('band factorization', 2658027426950515.5), ('machine state', 2658027426950515.5), ('model library', 2658027426950515.5), ('tool kit', 2658027426950515.5), ('mediation layer', 2658027426950515.5), ('knowledge level', 2658027426950515.5), ('system architecture', 2658027426950515.5), ('bottom-up search', 2658027426950515.5), ('software program', 2658027426950515.5), ('simulation technique', 2658027426950515.5), ('metadata approach', 2658027426950515.5), ('block jacobi', 2658027426950515.5), ('document retrieval', 2658027426950515.5), ('parallelization method', 2658027426950515.5), ('design space', 2645959436313292.0), ('data analysis', 2640857750023457.5), ('carbon dioxide', 2582305569630185.0), ('energy efficiency', 2571273471297375.5), ('process networks', 2544973712440475.5), ('search model', 2542316909638781.0), ('production planning', 2536577186651073.0), ('software security', 2536577186651073.0), ('robot control', 2536577186651073.0), ('data centers', 2509804940465406.0), ('folk theorem', 2488248443923839.5), ('hand gesture', 2474371663808861.0), ('web portal', 2460469976090952.0), ('meshless method', 2459782346435282.5), ('demand estimation', 2459782346435282.5), ('task scheduling', 2435378610715940.0), ('marksmanship performance', 2424896615423622.5), ('drug delivery', 2395241950519070.0), ('network security', 2351838361220071.5), ('gait recognition', 2351838361220071.5), ('data quality', 2351838361220071.5), ('dimension reduction', 2351838361220071.5), ('capacity planning', 2351838361220071.5), ('information products', 2351838361220071.5), ('market share', 2351838361220071.5), ('devs simulation', 2351838361220071.5), ('time series', 2312479481684550.0), ('enterprise transformation', 2286845278228743.5), ('particle swarm', 2282188683158764.5), ('process engineering', 2275075281382343.5), ('ion channels', 2270555665595713.5), ('blast furnace', 2242578210286727.5), ('information acquisition', 2213859520696177.5), ('recommender system', 2180310099057627.0), ('convex optimization', 2107650421424648.5), ('simulation output', 2088078754649849.8), ('power law', 2042571364934493.0), ('crystallization processes', 2037861862986912.8), ('process innovation', 2017310538648711.0), ('controller design', 2017310538648711.0), ('document analysis', 1994578890958759.5), ('data collection', 1992313984412772.0), ('feature terms', 1992313984412772.0), ('oil production', 1992313984412772.0), ('association rules', 1992313984412772.0), ('pedestrian flow', 1992313984412772.0), ('one-loop amplitudes', 1992313984412772.0), ('decision trees', 1992313984412772.0), ('engineering education', 1988528817954705.5), ('chemical engineering', 1985189447474480.8), ('process operations', 1950601163463814.2), ('team collaboration', 1942005308551818.8), ('user authentication', 1942005308551818.8), ('gap closing', 1942005308551818.8), ('multivariate change', 1942005308551818.8), ('process supervision', 1942005308551818.8), ('social networks', 166442316947702.34), ('semantic web', 33660871370888.72), ('peer-to-peer lending', 27942545126935.89), ('social media', 23491704887496.727), ('open collaboration', 13971272563467.945), ('instructional contexts', 13971272563467.945), ('semantic interoperability', 8910320480749.889), ('social web', 8605879051779.148), ('semantic integration', 8305177624691.756), ('analytical processing', 8003429569667.955), ('visual query', 6418043370846.457), ('class-based image', 6418043370846.457), ('geospatial web', 6418043370846.457), ('medical image', 6019276465113.701), ('financial advice', 5973132605714.152), ('social networking', 5767302525212.944), ('human computation', 5665771640282.618), ('social services', 4227050350949.8926), ('spatial data', 2894369693337.2695), ('preemptive scheduling', 2667809856555.985), ('node-weighted problems', 2667809856555.985), ('average-based system', 2667809856555.985), ('cross-modal adaptation', 2667809856555.985), ('self-help groups', 2667809856555.985), ('soft sensor', 2367765928392.7275), ('wireless sensor', 2258397564125.3584), ('private value', 2022805689604.8196), ('virtual reality', 1707046228970.4333), ('wireless networks', 1704909649034.9812), ('virtual environments', 1613301801457.299), ('complex systems', 1490838195323.0337), ('big data', 1294977818491.6472), ('cellular automata', 1255257841551.428), ('complex networks', 1218154652656.1187), ('temporal databases', 1190817168183.8518), ('digital libraries', 1179774598316.509), ('scientific computing', 1170466657520.6636), ('cloud computing', 1149599724408.6956), ('molecular dynamics', 1078008484352.1521), ('financial markets', 1062762501902.7056), ('higher education', 1062691086463.1687), ('location-based services', 1062691086463.1687), ('new product', 1038377184609.778), ('continuous time', 1021784572556.9065), ('special issue', 955048583507.1715), ('discrete event', 950469478654.5276), ('scale-free networks', 910878074111.2874), ('online markets', 910878074111.2874), ('common agency', 910094656296.5695), ('porous media', 880182544111.3273), ('multi-objective optimization', 836344044809.9512), ('optimal control', 834357776468.344), ('mobile computing', 810802349892.3123), ('linear systems', 808630243047.0992), ('transitional growth', 803153957746.7622), ('objective programming', 803153957746.7622), ('independent levels', 803153957746.7622), ('statistical decision', 803153957746.7622), ('adaptive mechanisms', 803153957746.7622), ('first authors', 803153957746.7622), ('elastic scattering', 779664979324.0371), ('molecular simulations', 759065061759.406), ('quaternionic quantum', 759065061759.406), ('real-time optimization', 746258580277.8562), ('global games', 738494868454.3799), ('high energy', 724872107255.7177), ('eco-industrial parks', 722993539805.1978), ('mobile environments', 722993539805.1978), ('combinatorial optimization', 722993539805.1978), ('nonlinear systems', 720938869491.1893), ('dynamic games', 710151409100.752), ('dynamical systems', 682638649461.0066), ('general equilibrium', 665069410806.6764), ('global optimization', 659449648273.7114), ('crude oil', 641820645692.4982), ('structured text', 627711689115.3004), ('random intersection', 607252049407.5248), ('parallel database', 607252049407.5248), ('neural networks', 606534375053.6312), ('wireless multi-hop', 605584883202.7867), ('spatio-temporal databases', 602868622120.2666), ('experimental evidence', 600419643584.475), ('multi-agent systems', 594817123702.2528), ('two-sided markets', 568700732516.2888), ('magnetic fields', 565638122525.7678), ('spatial analysis', 564061067450.3289), ('geometric networks', 545288976457.73016), ('open source', 543914400167.51843), ('online games', 523041705674.6519), ('adverse selection', 509918259491.9673), ('dynamic systems', 493566457982.2222), ('large networks', 485176005090.7857), ('optical lattices', 484186485850.6748), ('online auctions', 484186485850.6748), ('evolutionary games', 484186485850.6748), ('real time', 481905969185.1223), ('reactive distillation', 480409360247.2284), ('wireless video', 468728512915.7951), ('dynamic networks', 468477702085.37067), ('electronic markets', 467557226130.9875), ('stochastic games', 466555836494.1554), ('human-machine systems', 460745728785.42035), ('scientific writing', 455439037055.6437), ('general relativity', 455439037055.6437), ('principal-agent models', 455439037055.6437), ('financial networks', 455439037055.6437), ('dynamic environments', 455439037055.6437), ('magnetized plasmas', 455439037055.6437), ('common-value auctions', 455439037055.6437), ('real space', 455439037055.6437), ('metabolic networks', 455439037055.6437), ('spatio-temporal data', 455439037055.6437), ('serial supply', 455439037055.6437), ('computational neuroscience', 455439037055.6437), ('spatial databases', 454173350830.4342), ('biometric systems', 454173350830.4342), ('computational biology', 454173350830.4342), ('scientific data', 453948817667.47406), ('differential games', 446690875679.2116), ('biomedical research', 440304037288.63666), ('economic environments', 439618188728.73865), ('relational contracts', 432122178689.7599), ('relational databases', 431925486502.51184), ('neural population', 431624714728.90216), ('cellular networks', 431624714728.90216), ('bayesian games', 425546862018.87415), ('chemical plants', 425463485118.5832), ('hybrid wireless', 424293091203.8898), ('networked control', 419286049764.55597), ('agent-based simulation', 409203138963.62335), ('discrete time', 398161587766.9295), ('genetic algorithms', 384426870234.65106), ('unstructured grids', 380090249975.1778), ('remote sensing', 373544812303.85516), ('linear programming', 370094375233.2399), ('intelligent transportation', 362938730431.3957), ('real-time systems', 362054627990.0187), ('ubiquitous computing', 357408687413.58923), ('dissipative particle', 355811470379.59485), ('human-computer interaction', 354385371627.61847), ('discrete element', 353967852166.9663), ('fluid flow', 349095835822.23926), ('large-scale systems', 343488327672.122), ('extractive distillation', 343488327672.122), ('mobile devices', 340726310016.37445), ('natural gas', 340009811604.887), ('natural language', 338158667758.72375), ('industrial processes', 335649169936.48267), ('collaborative filtering', 335649169936.48267), ('wireless mesh', 334765067383.086), ('large scale', 332334573884.2017), ('computational physics', 327040837344.25916), ('cheap talk', 322920269532.33777), ('chemical supply', 322755081379.81177), ('nonlinear model', 322641901818.2602), ('spatiotemporal databases', 319493270883.9326), ('online labor', 319493270883.9326), ('multiple data', 318723336877.64307), ('statistical inference', 317110205988.37427), ('mutual fund', 316681472028.2853), ('multi-echelon supply', 316244512729.742), ('deductive databases', 313431840829.2021), ('large graphs', 313431840829.2021), ('nuclear power', 313431840829.2021), ('production-inventory systems', 313431840829.2021), ('safety-critical systems', 313431840829.2021), ('complex product', 313431840829.2021), ('adaptive systems', 313431840829.2021), ('random graphs', 313431840829.2021), ('electronic commerce', 313431840829.2021), ('complex reaction', 313431840829.2021), ('asynchronous transfer', 312661910425.52313), ('statistical databases', 312485675277.1967), ('numerical simulations', 312485675277.1967), ('automotive applications', 312485675277.1967), ('large data', 312485675277.1967), ('hybrid systems', 310684521659.4113), ('complex environments', 307475506756.16797), ('nonlinear control', 307475506756.16797), ('biopharmaceutical manufacturing', 307475506756.16797), ('mathematical programming', 306555999745.38165), ('uncertain data', 304532104856.7376), ('organizational structures', 303626024703.7624), ('virtual restoration', 303626024703.7624), ('optimal auctions', 303626024703.7624), ('heterogeneous network', 303626024703.7624), ('structured populations', 303626024703.7624), ('artificial vision', 303626024703.7624), ('public health', 303626024703.7624), ('computer-aided design', 303626024703.7624), ('electronic retailing', 303626024703.7624), ('spatiotemporal data', 303626024703.7624), ('hierarchical memory', 303626024703.7624), ('urban areas', 303626024703.7624), ('academic settings', 303626024703.7624), ('free surface', 303626024703.7624), ('medical geography', 303626024703.7624), ('unstructured radio', 303626024703.7624), ('crystalline materials', 303626024703.7624), ('general geometry', 303626024703.7624), ('biometric fusion', 303626024703.7624), ('homogeneous solids', 303626024703.7624), ('neuronal signaling', 303626024703.7624), ('scientific database', 303626024703.7624), ('hardware-software codesign', 303626024703.7624), ('single buffer', 303626024703.7624), ('competitive search', 303626024703.7624), ('spherical geometry', 303626024703.7624), ('academic research', 303626024703.7624), ('industrial symbiosis', 303626024703.7624), ('small network', 303626024703.7624), ('strategic market', 303626024703.7624), ('huge networks', 303626024703.7624), ('higher dimensions', 303626024703.7624), ('scientific databases', 303626024703.7624), ('multi-radio wireless', 303626024703.7624), ('large markets', 303626024703.7624), ('geometric radio', 303626024703.7624), ('dynamic markets', 303626024703.7624), ('weighted digraphs', 303626024703.7624), ('speculative markets', 303626024703.7624), ('process-aware information', 303626024703.7624), ('small networks', 303626024703.7624), ('online algorithms', 303626024703.7624), ('discrete simulation', 303626024703.7624), ('molecular crystals', 303626024703.7624), ('common value', 303626024703.7624), ('anaerobic digestion', 303626024703.7624), ('large populations', 303626024703.7624), ('structured domains', 303626024703.7624), ('complex organizations', 303626024703.7624), ('contemporary science', 303626024703.7624), ('different countries', 303626024703.7624), ('biomolecular systems', 303626024703.7624), ('social psychology', 303626024703.7624), ('rural sociology', 303626024703.7624), ('german hospitals', 303626024703.7624), ('random media', 303626024703.7624), ('sequential auctions', 303626024703.7624), ('ergodic theory', 303626024703.7624), ('hazardous applications', 303626024703.7624), ('french engineering', 303626024703.7624), ('active databases', 303626024703.7624), ('solid state', 303626024703.7624), ('compact spaces', 303626024703.7624), ('evolutionary learning', 303626024703.7624), ('spatial prediction', 303626024703.7624), ('complex engineering', 303626024703.7624), ('heterogeneous networks', 303626024703.7624), ('computational convexity', 303626024703.7624), ('pharmaceutical manufacturing', 303626024703.7624), ('dynamic settings', 303626024703.7624), ('large-scale service', 303626024703.7624), ('multi agent', 303626024703.7624), ('french sociology', 303626024703.7624), ('professional service', 303626024703.7624), ('large economies', 303626024703.7624), ('two-dimensional traffic', 303626024703.7624), ('lulc classification', 303626024703.7624), ('educational settings', 303626024703.7624), ('economic networks', 303626024703.7624), ('philosophical logic', 303626024703.7624), ('bilateral trade', 303626024703.7624), ('sublinear time', 303626024703.7624), ('geospatial domains', 303626024703.7624), ('multilateral bargaining', 303626024703.7624), ('heterogeneous clusters', 303626024703.7624), ('finite fields', 303626024703.7624), ('numerical solution', 303362430142.9759), ('large domains', 302792441601.3934), ('multiple lossy', 302792441601.3934), ('multi-dimensional space', 302792441601.3934), ('infinite intervals', 302792441601.3934), ('deterministic discrete-time', 302792441601.3934), ('hybrid networks', 302792441601.3934), ('heterogeneous terrain', 302792441601.3934), ('special fields', 302792441601.3934), ('variable terrain', 302792441601.3934), ('large solution', 302792441601.3934), ('dl-lite ontologies', 302792441601.3934), ('efficient sets', 302792441601.3934), ('multiobjective optimization', 302474569701.59814), ('multiple gpus', 302178984438.4002), ('user-generated content', 300953521403.88165), ('nearest neighbor', 300826348446.9064), ('numerical simulation', 299855252917.2505), ('reverse osmosis', 298967643513.40845), ('social interaction', 298967643513.40845), ('empirical study', 298824929562.12335), ('complex geometry', 297930513187.8186), ('qualitative simulation', 297930513187.8186), ('online communities', 297930513187.8186), ('cultural heritage', 297930513187.8186), ('pervasive computing', 297930513187.8186), ('virtual communities', 297930513187.8186), ('human-robot collaboration', 297930513187.8186), ('liquid chromatography', 297930513187.8186), ('scientific applications', 297925345914.2037), ('multiple time', 295728793751.75323), ('turbulent flows', 294206072348.23285), ('rough set', 289937039133.75476), ('boolean functions', 289880807440.77594), ('continuous action', 289167103779.6638), ('incomplete data', 289167103779.6638), ('stochastic overlapping', 288855068269.7653), ('genetic programming', 287847476200.58734), ('large games', 287743939371.24603), ('social science', 287743939371.24603), ('synthetic biology', 287341597809.9785), ('plant-wide control', 285037130666.7978), ('public sector', 279473963532.5036), ('relational database', 276305505834.19617), ('magnetized plasma', 271855909159.60236), ('private information', 267777101507.4878), ('incomplete information', 266025710576.44476), ('endogenous growth', 261913607802.20395), ('clinical trials', 259167945201.51056), ('short-term scheduling', 256735318628.41162), ('neural network', 254333669506.19843), ('critical index', 253668358692.92517), ('finite elements', 253393499983.45187), ('human behavior', 231857128613.58002), ('differential-algebraic equations', 231857128613.58002), ('liquid crystals', 231857128613.58002), ('new ventures', 231857128613.58002), ('linear equations', 229407301143.94647), ('experimental investigation', 228169154725.9175), ('random access', 227662317199.07944), ('conceptual design', 225735661734.63718), ('medical devices', 222113425467.88345), ('finite populations', 222113425467.88345), ('evolutionary algorithms', 220921569830.59766), ('shale gas', 219216925191.31418), ('nonlinear process', 216465415065.7024), ('dynamic contracts', 216429052262.05823), ('industrial engineering', 216429052262.05823), ('self-optimizing control', 216211437954.60062), ('coalitional equilibrium', 216061089344.87994), ('thermal management', 216061089344.87994), ('approximate all-pairs', 216061089344.87994), ('unstructured bargaining', 216061089344.87994), ('variational preferences', 216061089344.87994), ('conditional beta', 216061089344.87994), ('model-based fault', 216061089344.87994), ('rational inattention', 216061089344.87994), ('noncooperative games', 216061089344.87994), ('legislative policy', 216061089344.87994), ('haptic interaction', 216061089344.87994), ('greedy algorithms', 216061089344.87994), ('metabolic modeling', 216061089344.87994), ('predictive scheduling', 216061089344.87994), ('legislative decision', 216061089344.87994), ('potential games', 216061089344.87994), ('mixed duopoly', 216061089344.87994), ('strategic information', 216061089344.87994), ('logical partitioning', 216061089344.87994), ('topological logic', 216061089344.87994), ('solid oxide', 215753743419.18314), ('high performance', 213627000591.2061), ('hydraulic fracturing', 211358667756.8799), ('elementary particle', 210907374876.97394), ('economic applications', 210907374876.97394), ('econometric inferences', 210907374876.97394), ('car-parrinello calculations', 210907374876.97394), ('strategic complexity', 210907374876.97394), ('molecular genetics', 210907374876.97394), ('open issues', 210907374876.97394), ('empirical support', 210907374876.97394), ('hartree-fock method', 210907374876.97394), ('empirical evidence', 210907374876.97394), ('random variables', 208416370424.67276), ('human factors', 206127508118.27515), ('biological networks', 205418491334.39908), ('electronic structure', 204628917711.31805), ('embedded system', 204422853888.42673), ('two-phase flow', 202820634694.8271), ('social learning', 202820634694.8271), ('discontinuous games', 202820634694.8271), ('continuous system', 201936535586.8089), ('ambient intelligence', 201800647608.91095), ('organizational learning', 201800647608.91095), ('new technologies', 201800647608.91095), ('large systems', 201800647608.91095), ('forward osmosis', 201800647608.91095), ('social groups', 201800647608.91095), ('tubular reactors', 201800647608.91095), ('scientific work', 201800647608.91095), ('free energy', 201800647608.91095), ('optical networks', 201800647608.91095), ('parallel programs', 201800647608.91095), ('optical spectra', 201800647608.91095), ('human effectiveness', 200811134775.32187), ('sterile filling', 200811134775.32187), ('large-scale computer', 200811134775.32187), ('online movie', 200811134775.32187), ('computational forensics', 200811134775.32187), ('dark matter', 199739844607.47803), ('robust control', 198585235199.5915), ('sequential patterns', 197127333875.25818), ('time-evolving graphs', 197127333875.25818), ('dynamic modeling', 195861033724.57718), ('random number', 195837117209.64706), ('nonlinear equations', 194894005905.64407), ('interval computations', 193534897059.26126), ('dynamic data', 193270471892.81165), ('wavelet transform', 190045124987.5889), ('relational data', 189562934535.67282), ('autonomous vehicles', 188291755339.41028), ('high-performance computing', 188291755339.41028), ('asymmetric information', 187619479646.65576), ('robust counterpart', 185353161718.9161), ('enterprise-wide optimization', 185353161718.9161), ('closed-loop supply', 183784591150.71716), ('automotive industry', 180184457902.7725), ('complex chemical', 179392699163.71167), ('numerical methods', 178359890106.16788), ('social interactions', 178359890106.16788), ('discrete-event simulation', 178203904606.64902), ('epidemic simulations', 177971050068.54117), ('retail banking', 177805595070.13324), ('numerical modeling', 176491593647.30005), ('medical applications', 174646975091.97528), ('low temperature', 174646975091.97528), ('global software', 174646975091.97528), ('high power', 174646975091.97528), ('intelligent agents', 174646975091.97528), ('inertial confinement', 174646975091.97528), ('cumulative prospect', 174646975091.97528), ('human motion', 174646975091.97528), ('limited commitment', 174496109293.57858), ('human-robot interaction', 173785742991.33044), ('molecular simulation', 172414931479.67258), ('fed-batch cultures', 171744163836.061), ('dynamic models', 171744163836.061), ('biopharmaceutical processes', 171744163836.061), ('introductory programming', 171744163836.061), ('networked systems', 171744163836.061), ('online feedback', 171744163836.061), ('parallel tasks', 171744163836.061), ('neural data', 171744163836.061), ('cartesian coordinates', 171744163836.061), ('medical imaging', 171744163836.061), ('nuclear track', 171744163836.061), ('statistical data', 171744163836.061), ('discrete-time mip', 171744163836.061), ('sustainable supply', 171744163836.061), ('virtual worlds', 171744163836.061), ('risky decision', 171744163836.061), ('electronic transport', 171744163836.061), ('slow-fast systems', 171744163836.061), ('high density', 171744163836.061), ('continuous casting', 171744163836.061), ('concurrent design', 171744163836.061), ('heavy oil', 171744163836.061), ('overall process', 171744163836.061), ('intense laser', 171744163836.061), ('mobile middleware', 171744163836.061), ('dynamic graphs', 171744163836.061), ('atomic gases', 171744163836.061), ('autonomous robotics', 171744163836.061), ('scientific journals', 171744163836.061), ('clinical laboratories', 171744163836.061), ('mobile access', 171744163836.061), ('high-frequency data', 171744163836.061), ('global manufacturing', 171744163836.061), ('professional codes', 171744163836.061), ('different geometries', 171744163836.061), ('single neurons', 171744163836.061), ('spherical quantum', 171744163836.061), ('global supply', 171744163836.061), ('indoor environments', 171744163836.061), ('robust implementation', 171744163836.061), ('biometric system', 171744163836.061), ('ecological systems', 171744163836.061), ('intertemporal choice', 171744163836.061), ('neural systems', 171744163836.061), ('technological design', 171744163836.061), ('fluid mechanics', 171744163836.061), ('online game', 171190721817.23083), ('industrial applications', 170797999695.9289), ('mobile networks', 170797999695.9289), ('smart city', 170797999695.9289), ('embedded systems', 170797999695.9289), ('public policy', 170797999695.9289), ('service-oriented software', 170797999695.9289), ('markov decision', 170797999695.9289), ('open innovation', 170797999695.9289), ('secure software', 170797999695.9289), ('atomistic simulations', 170797999695.9289), ('longitudinal networks', 170797999695.9289), ('conceptual modeling', 169649401820.6587), ('digital library', 169649401820.6587), ('biological resources', 168466706739.05746), ('linear models', 168146313561.01566), ('semi-infinite optimization', 167728237111.05038), ('optimal design', 166507206515.40686), ('parallel computers', 166316937964.00687), ('adaptive control', 165928800199.34076), ('robust optimization', 163283157050.74393), ('semicontinuous distillation', 162560181217.00378), ('complex data', 162405263096.29474), ('differential equations', 161044893022.65332), ('positive responsibility', 161044893022.65332), ('large-scale chemical', 160697235520.21103), ('electron-positron annihilation', 159089720821.9271), ('first principles', 159026830451.65994), ('porous materials', 158333033697.59152), ('total site', 158229275867.54282), ('finite difference', 157585817600.6909), ('fibrous media', 156242837638.59836), ('numerical renormalization', 156242837638.59836), ('electrostatic problems', 156242837638.59836), ('object-oriented software', 156242837638.59836), ('industrial automation', 156242837638.59836), ('social robotics', 156242837638.59836), ('social robots', 156242837638.59836), ('infinite games', 156242837638.59836), ('knowledge-based systems', 156242837638.59836), ('chaotic time', 156242837638.59836), ('magnetic confinement', 156242837638.59836), ('multi-purpose batch', 156242837638.59836), ('retail assortment', 156242837638.59836), ('heterogeneous parallel', 156242837638.59836), ('personalized web', 156242837638.59836), ('normal-form games', 156242837638.59836), ('cooperative games', 156242837638.59836), ('electrical engineering', 156242837638.59836), ('binary systems', 156242837638.59836), ('flash-based storage', 156242837638.59836), ('top management', 156242837638.59836), ('agent-based systems', 156242837638.59836), ('combinatorial auctions', 156242837638.59836), ('magnetohydrodynamic turbulence', 156242837638.59836), ('electronic marketplaces', 156242837638.59836), ('atomic calculations', 156242837638.59836), ('electronic systems', 156242837638.59836), ('discrete-event modeling', 156242837638.59836), ('incompressible flows', 156242837638.59836), ('visual flight', 156242837638.59836), ('mutual funds', 156242837638.59836), ('strategic consumers', 155207784807.48306), ('complex geometries', 154811050674.62198), ('network-level characteristics', 154575861026.30847), ('stochastic programming', 153860149254.81412), ('evolutionary computation', 152867263719.32782), ('smart cities', 152742229317.96893), ('biomedical sciences', 152742229317.96893), ('architectural design', 152742229317.96893), ('hard disk', 152742229317.96893), ('operational test', 152742229317.96893), ('retail stores', 152742229317.96893), ('fuzzy systems', 152672157716.57678), ('incomplete markets', 152623646011.0711), ('chemical reactions', 152623646011.0711), ('agent-based modeling', 152623646011.0711), ('diagnostic rhyme', 151813012351.8812), ('biomedical systems', 151813012351.8812), ('nonlinear programs', 151813012351.8812), ('smart mobility', 151813012351.8812), ('online engineering', 151813012351.8812), ('complex projects', 151813012351.8812), ('multimodal research', 151813012351.8812), ('fast networks', 151813012351.8812), ('mesoscopic conductors', 151813012351.8812), ('ising-type lattice', 151813012351.8812), ('peer-based systems', 151813012351.8812), ('temporal discounting', 151813012351.8812), ('large team', 151813012351.8812), ('economic model', 151813012351.8812), ('two-armed bandits', 151813012351.8812), ('large-scale evacuation', 151813012351.8812), ('social communication', 151813012351.8812), ('optimal production', 151813012351.8812), ('islamic communities', 151813012351.8812), ('manual tracking', 151813012351.8812), ('micro-patterned fluidic', 151813012351.8812), ('continuous models', 151813012351.8812), ('spatial risk', 151813012351.8812), ('geometric constraint', 151813012351.8812), ('infrastructure-based networks', 151813012351.8812), ('artistic sketching', 151813012351.8812), ('ethical risk', 151813012351.8812), ('different layouts', 151813012351.8812), ('visual interfaces', 151813012351.8812), ('immersive technologies', 151813012351.8812), ('competitive environments', 151813012351.8812), ('cfd simulations', 151813012351.8812), ('legal practice', 151813012351.8812), ('general readership', 151813012351.8812), ('passive microwave', 151813012351.8812), ('small firms', 151813012351.8812), ('spherical film', 151813012351.8812), ('electoral competition', 151813012351.8812), ('modular robots', 151813012351.8812), ('systematic reviews', 151813012351.8812), ('dynamic dispatching', 151813012351.8812), ('multi-organization environments', 151813012351.8812), ('parliamentary democracies', 151813012351.8812), ('active microrheology', 151813012351.8812), ('upper ionosphere', 151813012351.8812), ('dynamic endowment', 151813012351.8812), ('unsegregated airspace', 151813012351.8812), ('lexicographical order', 151813012351.8812), ('social collaboration', 151813012351.8812), ('random line', 151813012351.8812), ('plain view', 151813012351.8812), ('finite-dimensional vector', 151813012351.8812), ('retail services', 151813012351.8812), ('non-circular cross-section', 151813012351.8812), ('tight oil', 151813012351.8812), ('serial lines', 151813012351.8812), ('multitier supply', 151813012351.8812), ('windshear conditions', 151813012351.8812), ('primary education', 151813012351.8812), ('ubiquitous platforms', 151813012351.8812), ('biotechnological processing', 151813012351.8812), ('elastic pipes', 151813012351.8812), ('sozio-technischen systemen', 151813012351.8812), ('transient regime', 151813012351.8812), ('sine-gordon model', 151813012351.8812), ('antennal lobe', 151813012351.8812), ('biopharmaceutical bioreactors', 151813012351.8812), ('high-throughput discovery', 151813012351.8812), ('binary choices', 151813012351.8812), ('manual control', 151813012351.8812), ('spherical vessels', 151813012351.8812), ('live broadcasting', 151813012351.8812), ('analytical domains', 151813012351.8812), ('medical information', 151813012351.8812), ('open ocean', 151813012351.8812), ('global supplier', 151813012351.8812), ('diverse environments', 151813012351.8812), ('model-based parameter', 151813012351.8812), ('hylleraas basis', 151813012351.8812), ('molten steel', 151813012351.8812), ('mean-field oscillator', 151813012351.8812), ('underdense plasmas', 151813012351.8812), ('malaysian universities', 151813012351.8812), ('biomedical publishing', 151813012351.8812), ('differential proteomics', 151813012351.8812), ('ims-based networks', 151813012351.8812), ('adaptive learning', 151813012351.8812), ('isi-indexed journals', 151813012351.8812), ('collaborative networks', 151813012351.8812), ('em-pic simulations', 151813012351.8812), ('m-business applications', 151813012351.8812), ('wireless computing', 151813012351.8812), ('quantum wells', 151813012351.8812), ('organizational decision', 151813012351.8812), ('economic domains', 151813012351.8812), ('interactive art', 151813012351.8812), ('modular software', 151813012351.8812), ('performance-based advertising', 151813012351.8812), ('real-time simulation', 151813012351.8812), ('prosocial activities', 151813012351.8812), ('magnetic coordinates', 151813012351.8812), ('off-line adp', 151813012351.8812), ('technology-mediated communication', 151813012351.8812), ('myopic economies', 151813012351.8812), ('online travel', 151813012351.8812), ('non-biomedical sciences', 151813012351.8812), ('principal-multi-agent problems', 151813012351.8812), ('three-player games', 151813012351.8812), ('under-vaccinated communities', 151813012351.8812), ('one-dimensional cavities', 151813012351.8812), ('ionic homeostasis', 151813012351.8812), ('minimum cost', 151813012351.8812), ('intracranial aneurysms', 151813012351.8812), ('isoelastic adoption', 151813012351.8812), ('cortical networks', 151813012351.8812), ('networked communities', 151813012351.8812), ('online groups', 151813012351.8812), ('periodic potentials', 151813012351.8812), ('strategy-proof object', 151813012351.8812), ('agent-directed simulations', 151813012351.8812), ('cooperative multirobot', 151813012351.8812), ('sender-receiver games', 151813012351.8812), ('hydrologic models', 151813012351.8812), ('undergraduate chemical', 151813012351.8812), ('persuasive telehealth', 151813012351.8812), ('consolidated supply', 151813012351.8812), ('mobile robotics', 151813012351.8812), ('private-value auctions', 151813012351.8812), ('corporate finance', 151813012351.8812), ('landslide-prone areas', 151813012351.8812), ('scheduling multiprocessor systems', 44523.69543991805), ('relational models', 35524.845005649266), ('moving objects databases', 22261.847719959023), ('scientific misconduct', 16892.57174339246), ('nonlinear processes', 16792.410217260545), ('dynamic optimization', 16704.243512633806), ('smoothed particle hydrodynamics', 15492.7611931971), ('distributed sensor systems', 14841.231813306013), ('simulating emergency events', 14841.231813306013), ('learning object repositories', 14841.231813306013), ('responsible research', 14143.917466500992), ('public goods', 14143.917466500992), ('electric vehicles', 14043.755944745359), ('spatial constraint', 14043.755944745359), ('high speed', 13947.088692099938), ('future research', 13920.202927194838), ('hadronic production', 13920.202927194838), ('embedded systems design', 12293.662990893605), ('simulation-based optimization', 12125.408896027455), ('infinite horizon', 12125.408896027455), ('physical design', 12125.408896027455), ('particle-in-cell simulations', 12125.408896027455), ('pharmaceutical product', 12125.408896027455), ('hybrid system', 12125.408896027455), ('multicomponent distillation', 11542.042331120681), ('social systems', 11542.042331120681), ('discrete-event systems', 11542.042331120681), ('computational intelligence', 11498.918893797532), ('renewable energy', 11498.918893797532), ('strategic customers', 11479.311271163007), ('genetic algorithm', 11465.794911319124), ('stationary equilibrium', 11295.101669408155), ('large numbers', 11295.101669408155), ('global sensitivity', 11295.101669408155), ('optical tweezers', 11295.101669408155), ('industrial process', 11295.101669408155), ('linear interval', 11295.101669408155), ('biological sequences', 11194.940144840364), ('second order', 11194.940144840364), ('stochastic processes', 11194.940144840364), ('continuous media', 11194.940144840364), ('hamiltonian systems', 11194.940144840364), ('unmanned aircraft', 11194.940144840364), ('diatomic molecules', 11194.940144840364), ('continuous processes', 11194.940144840364), ('geographic data', 11194.940144840364), ('new products', 11194.940144840364), ('dynamic system', 11194.940144840364), ('spatial access', 11136.162341755873), ('content-based image', 11136.162341755873), ('heavy quarkonium', 11136.162341755873), ('sustainable design', 11094.778610748619), ('dynamic simulation', 11094.778610748619), ('least squares', 11094.778610748619), ('higher order', 10501.690369374168), ('vintage capital', 10354.37656487111), ('secondary market', 10354.37656487111), ('segmented markets', 10354.37656487111), ('military simulations', 10354.37656487111), ('after-sales service', 10354.37656487111), ('case-based reasoning', 10354.37656487111), ('cloud services', 10354.37656487111), ('molecular biology', 10354.37656487111), ('mixed precision', 10354.37656487111), ('surrogate models', 10354.37656487111), ('dynamical overlap', 10354.37656487111), ('crystal growth', 10238.323952475846), ('interval analysis', 10238.323952475846), ('virtual environment', 9738.571522416989), ('fuzzy sets', 9681.446955300771), ('mixed membership', 9524.069115072389), ('public transportation', 9497.487785717474), ('unified modeling', 9497.487785717474), ('public administration', 9497.487785717474), ('workflow management', 9497.487785717474), ('intellectual property', 9497.487785717474), ('early-stage equity', 9497.487785717474), ('multi-tenant data', 9497.487785717474), ('high-frequency microrheology', 9497.487785717474), ('multi-item inventory', 9497.487785717474), ('general hospitals', 9497.487785717474), ('duplex pressure', 9497.487785717474), ('emotional computation', 9497.487785717474), ('portal information', 9497.487785717474), ('thermal sorption', 9497.487785717474), ('indo-china languages', 9497.487785717474), ('strategic asset', 9497.487785717474), ('financial services', 9497.487785717474), ('tubular photobioreactors', 9497.487785717474), ('network-creation games', 9497.487785717474), ('non-compact spaces', 9497.487785717474), ('incompressible flow', 9497.487785717474), ('open agent', 9497.487785717474), ('non-destructive testing', 9497.487785717474), ('interval branch', 9497.487785717474), ('corporate bond', 9497.487785717474), ('isoperibolic batch', 9497.487785717474), ('extended regularizations', 9497.487785717474), ('macro-finance models', 9497.487785717474), ('extensive air', 9497.487785717474), ('trickle-bed reactors', 9497.487785717474), ('oil-rim reservoirs', 9497.487785717474), ('global transmissions', 9497.487785717474), ('heterogeneous catalysis', 9497.487785717474), ('non-rectangular domains', 9497.487785717474), ('continuous operating', 9497.487785717474), ('portal design', 9497.487785717474), ('exploratory search', 9497.487785717474), ('elastic ep-scattering', 9497.487785717474)]"
   ]
  },
  {
   "cell_type": "code",
   "execution_count": null,
   "metadata": {},
   "outputs": [],
   "source": [
    "prdr_w_scores = []\n",
    "i = 0\n",
    "\n",
    "for (word, f1) in prdr[0:501]:\n",
    "    prdr_w_scores.append((word, f1, is_relevant_to_cs(word)))\n",
    "    i += 1\n",
    "    if ((i % 25) == 0):\n",
    "        print(str(i) + \" candidates done!...\")"
   ]
  },
  {
   "cell_type": "code",
   "execution_count": null,
   "metadata": {},
   "outputs": [],
   "source": [
    "prdr_map = {}\n",
    "\n",
    "for (word, f1, wiki_score) in prdr_w_scores:\n",
    "    prdr_map[word] = wiki_score"
   ]
  },
  {
   "cell_type": "code",
   "execution_count": null,
   "metadata": {},
   "outputs": [],
   "source": [
    "wiki_sorted_words = sorted(prdr_map, key=prdr_map.__getitem__, reverse=True)"
   ]
  },
  {
   "cell_type": "code",
   "execution_count": null,
   "metadata": {},
   "outputs": [],
   "source": [
    "wiki_sorted_words"
   ]
  },
  {
   "cell_type": "code",
   "execution_count": null,
   "metadata": {
    "scrolled": true
   },
   "outputs": [],
   "source": [
    "prec_1, good_1, prolly_good_1 = get_precision(set(wiki_sorted_words[0:101]), 0, good=None, probably_good=None)"
   ]
  },
  {
   "cell_type": "code",
   "execution_count": null,
   "metadata": {},
   "outputs": [],
   "source": [
    "prec_1"
   ]
  },
  {
   "cell_type": "code",
   "execution_count": null,
   "metadata": {
    "scrolled": true
   },
   "outputs": [],
   "source": [
    "prec_2, good_2, prolly_good_2 = get_precision(set(wiki_sorted_words[0:201]), 0, good=None, probably_good=None)"
   ]
  },
  {
   "cell_type": "code",
   "execution_count": null,
   "metadata": {},
   "outputs": [],
   "source": [
    "prec_2"
   ]
  },
  {
   "cell_type": "code",
   "execution_count": null,
   "metadata": {},
   "outputs": [],
   "source": [
    "prec_3"
   ]
  },
  {
   "cell_type": "code",
   "execution_count": null,
   "metadata": {
    "scrolled": true
   },
   "outputs": [],
   "source": [
    "i = 500\n",
    "for (word, f1) in prdr[501:1001]:\n",
    "    prdr_w_scores.append((word, f1, is_relevant_to_cs(word)))\n",
    "    i += 1\n",
    "    if ((i % 25) == 0):\n",
    "        print(str(i) + \" candidates done!...\")"
   ]
  },
  {
   "cell_type": "code",
   "execution_count": null,
   "metadata": {},
   "outputs": [],
   "source": [
    "prdr_map = {}\n",
    "\n",
    "for (word, f1, wiki_score) in prdr_w_scores:\n",
    "    prdr_map[word] = wiki_score\n",
    "\n",
    "wiki_sorted_words = sorted(prdr_map, key=prdr_map.__getitem__, reverse=True)\n",
    "\n",
    "wiki_sorted_words"
   ]
  },
  {
   "cell_type": "code",
   "execution_count": null,
   "metadata": {
    "scrolled": true
   },
   "outputs": [],
   "source": [
    "prec_1, good_1, prolly_good_1 = get_precision(set(wiki_sorted_words[0:101]), 0, good=None, probably_good=None)\n",
    "prec_2, good_2, prolly_good_2 = get_precision(set(wiki_sorted_words[0:201]), 0, good=None, probably_good=None)\n",
    "prec_3, good_3, prolly_good_3 = get_precision(set(wiki_sorted_words[0:301]), 0, good=None, probably_good=None)"
   ]
  },
  {
   "cell_type": "code",
   "execution_count": null,
   "metadata": {
    "scrolled": true
   },
   "outputs": [],
   "source": [
    "prec_4, good_4, prolly_good_4 = get_precision(set(wiki_sorted_words[0:401]), 0, good=None, probably_good=None)\n",
    "prec_5, good_5, prolly_good_5 = get_precision(set(wiki_sorted_words[0:501]), 0, good=None, probably_good=None)"
   ]
  },
  {
   "cell_type": "code",
   "execution_count": null,
   "metadata": {
    "scrolled": true
   },
   "outputs": [],
   "source": [
    "prec_6, good_6, prolly_good_6 = get_precision(set(wiki_sorted_words[0:601]), 0, good=None, probably_good=None)\n",
    "prec_7, good_7, prolly_good_7 = get_precision(set(wiki_sorted_words[0:701]), 0, good=None, probably_good=None)"
   ]
  },
  {
   "cell_type": "code",
   "execution_count": null,
   "metadata": {},
   "outputs": [],
   "source": [
    "[prec_1, prec_2, prec_3, prec_4, prec_5, prec_6, prec_7]"
   ]
  },
  {
   "cell_type": "code",
   "execution_count": null,
   "metadata": {},
   "outputs": [],
   "source": [
    "prdr =             [88.00, 73.00, 77.67, 77.25, 79.8]\n",
    "wiki_sorted_prdr = [83.17, 81.59, 83.72, 81.05, 81.04]\n",
    "ap =               [86.00, 82.00, 82.00, 81.75, 81.2]\n",
    "x =                [100, 200, 300, 400, 500]"
   ]
  }
 ],
 "metadata": {
  "kernelspec": {
   "display_name": "Python 3",
   "language": "python",
   "name": "python3"
  },
  "language_info": {
   "codemirror_mode": {
    "name": "ipython",
    "version": 3
   },
   "file_extension": ".py",
   "mimetype": "text/x-python",
   "name": "python",
   "nbconvert_exporter": "python",
   "pygments_lexer": "ipython3",
   "version": "3.9.1"
  }
 },
 "nbformat": 4,
 "nbformat_minor": 2
}
