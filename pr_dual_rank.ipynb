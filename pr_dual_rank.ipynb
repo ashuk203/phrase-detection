{
 "cells": [
  {
   "cell_type": "markdown",
   "metadata": {},
   "source": [
    "# PRDualRank( ) and its Helpers"
   ]
  },
  {
   "cell_type": "markdown",
   "metadata": {},
   "source": [
    "## QuestR Code"
   ]
  },
  {
   "cell_type": "code",
   "execution_count": 12,
   "metadata": {},
   "outputs": [],
   "source": [
    "def computePatternRecallFromTuple(sg, total_eids, eids2Sup, eid2recall, eidsFeatureCount):\n",
    "      tmp_sum = 0.0\n",
    "      for eid in range(total_eids):\n",
    "        if eids2Sup[eid] > 0:\n",
    "          tmp_sum += eid2recall.get(eid, 0) * eidsFeatureCount[eid].get(sg, 0) / eids2Sup[eid]\n",
    "      return tmp_sum\n",
    "\n",
    "def computeTupleRecallFromPattern(eid, extr_patterns, eidsFeatureCount, patterns2Sup, pattern2recall):\n",
    "      tmp_sum = 0.0\n",
    "      for sg in extr_patterns:\n",
    "        tmp_sum += pattern2recall.get(sg, 0) * eidsFeatureCount[eid].get(sg, 0) / patterns2Sup[sg]\n",
    "      return tmp_sum\n",
    "\n",
    "def doInferenceRecallExtPatternOnly(extr_patterns, pattern2recall, total_eids, eid2recall, \n",
    "                                    eids2Sup, eidsFeatureCount, patterns2Sup):\n",
    "      for sg in extr_patterns:\n",
    "        pattern2recall[sg] = computePatternRecallFromTuple(sg, total_eids, eids2Sup, \n",
    "                                                           eid2recall, eidsFeatureCount)\n",
    "      for eid in range(total_eids):\n",
    "        eid2recall[eid] = computeTupleRecallFromPattern(eid, extr_patterns, eidsFeatureCount, \n",
    "                                                        patterns2Sup, pattern2recall)"
   ]
  },
  {
   "cell_type": "markdown",
   "metadata": {},
   "source": [
    "## QuestP Code"
   ]
  },
  {
   "cell_type": "code",
   "execution_count": 11,
   "metadata": {},
   "outputs": [],
   "source": [
    "def computePatternPrecisionFromTuple(p, pattern2eids, eidsFeatureCount, \n",
    "                                     pattern2precision, eid2precision, patterns2Sup):\n",
    "      tmp_sum = 0.0\n",
    "      for eid in pattern2eids[p]:\n",
    "        sup = eidsFeatureCount[eid][p]\n",
    "        tmp_sum += eid2precision[eid]*sup\n",
    "      total = patterns2Sup[p]\n",
    "      if total > 0:\n",
    "        return tmp_sum / total\n",
    "      else: return 0.0\n",
    "\n",
    "def computeTuplePrecisionFromPattern(eid, groundTruthEids, eid2precision, \n",
    "                                     extr_patterns, eidsFeatureCount, eid2patterns, \n",
    "                                     pattern2precision, eids2Sup):\n",
    "      if eid in groundTruthEids:\n",
    "        return eid2precision[eid]\n",
    "      tmp_sum = 0.0\n",
    "      for sg in eid2patterns[eid]:\n",
    "        sup = eidsFeatureCount[eid].get(sg, 0)\n",
    "        tmp_sum += pattern2precision[sg]*sup\n",
    "      total = eids2Sup[eid]\n",
    "      if total > 0:\n",
    "        return tmp_sum / total\n",
    "      else: return 0.0\n",
    "\n",
    "def doInferencePrecExtPatternOnly(extr_patterns, pattern2eids, eidsFeatureCount, \n",
    "                                  pattern2precision, eid2precision, patterns2Sup, \n",
    "                                  total_eids, groundTruthEids, eid2patterns, eids2Sup):\n",
    "      for sg in extr_patterns:\n",
    "        pattern2precision[sg] = computePatternPrecisionFromTuple(sg, pattern2eids, eidsFeatureCount, \n",
    "                                                                 pattern2precision, eid2precision, patterns2Sup)\n",
    "\n",
    "      for eid in range(total_eids):\n",
    "        if eid not in groundTruthEids:\n",
    "          eid2precision[eid] = computeTuplePrecisionFromPattern(eid, groundTruthEids, eid2precision,extr_patterns, \n",
    "                                                                eidsFeatureCount, eid2patterns, pattern2precision, \n",
    "                                                                eids2Sup)"
   ]
  },
  {
   "cell_type": "markdown",
   "metadata": {},
   "source": [
    "## The PRDualRank( ) Function"
   ]
  },
  {
   "cell_type": "code",
   "execution_count": 9,
   "metadata": {},
   "outputs": [],
   "source": [
    "# expand the set of seedEntities and return eids by order, excluding seedEntities (original children)\n",
    "def prDualRank(seedEidsWithConfidence, negativeSeedEids, eid2patterns, pattern2eids, eidAndPattern2strength,\n",
    "             eid2types, type2eids, eidAndType2strength, eid2ename, eidsFeatureCount, eids2Sup, patterns2Sup, \n",
    "             FLAGS_VERBOSE=False, FLAGS_DEBUG=False):\n",
    "      ''' \n",
    "\n",
    "      :param seedEidsWithConfidence: a list of [eid (int), confidence_score (float)]\n",
    "      :param negativeSeedEids: a set of eids (int) that should not be included\n",
    "      :param eid2patterns:\n",
    "      :param pattern2eids:\n",
    "      :param eidAndPattern2strength:\n",
    "      :param eid2types:\n",
    "      :param type2eids:\n",
    "      :param eidAndType2strength:\n",
    "      :param eid2ename:\n",
    "\n",
    "      :return: P and T sorted by precision and recall\n",
    "      '''\n",
    "      print(patterns2Sup)\n",
    "      seedEids = [ele[0] for ele in seedEidsWithConfidence]\n",
    "      groundTruthEids = [ele[0] for ele in seedEidsWithConfidence]\n",
    "      eid2confidence = {ele[0]: ele[1] for ele in seedEidsWithConfidence}\n",
    "\n",
    "      ## Cache the seedEids for later use\n",
    "      cached_seedEids = set([ele for ele in seedEids])\n",
    "      if FLAGS_VERBOSE:\n",
    "        print('Seed set:')\n",
    "        for eid in seedEids:\n",
    "          print(eid, eid2ename[eid])\n",
    "        print(\"[INFO] Start SetExpan\")\n",
    "\n",
    "    ## establish ground truth\n",
    "    ##double but not int\n",
    "      total_eids = len(eid2ename)\n",
    "      eid2precision = {x: 0.0 for x in range(total_eids)}\n",
    "      for eid in seedEids:\n",
    "        eid2precision[eid] = 1.0\n",
    "      tmp_sum = len(seedEids)\n",
    "      eid2recall = {eid: eid2precision[eid]/tmp_sum for eid in seedEids}\n",
    "\n",
    "      extr_patterns = list(pattern2eids.keys())\n",
    "\n",
    "      pattern2precision = {sg: 0.0 for sg in extr_patterns}\n",
    "      pattern2recall = {sg: 0.0 for sg in extr_patterns}\n",
    "\n",
    "\n",
    "      iters = 0\n",
    "      while iters < MAX_ITER_SET:\n",
    "        iters += 1\n",
    "        prev_seeds = set(seedEids)\n",
    "        start = time.time()\n",
    "\n",
    "        #QuestP till convergence\n",
    "        doInferencePrecExtPatternOnly(extr_patterns, pattern2eids, eidsFeatureCount, \n",
    "                                      pattern2precision, eid2precision, patterns2Sup, \n",
    "                                      total_eids, groundTruthEids, eid2patterns, eids2Sup)\n",
    "        #QuestR till convergence\n",
    "        doInferenceRecallExtPatternOnly(extr_patterns, pattern2recall, total_eids, \n",
    "                                        eid2recall, eids2Sup, eidsFeatureCount, patterns2Sup)\n",
    "\n",
    "\n",
    "        all_end = time.time()\n",
    "\n",
    "        if FLAGS_DEBUG:\n",
    "          print(\"End of iteration %s\" % iters)\n",
    "\n",
    "      expanded_eid_pre = sorted(eid2precision, key=eid2precision.__getitem__, reverse=True)\n",
    "      expanded_eid_rec = sorted(eid2recall, key=eid2recall.__getitem__, reverse=True)\n",
    "      expanded_pattern_pre = sorted(pattern2precision, key=pattern2precision.__getitem__, reverse=True)\n",
    "\n",
    "      expanded_pattern_rec = sorted(pattern2recall, key=pattern2recall.__getitem__, reverse=True)\n",
    "\n",
    "      return expanded_pattern_pre, expanded_pattern_rec, expanded_eid_pre, expanded_eid_rec\n"
   ]
  },
  {
   "cell_type": "code",
   "execution_count": null,
   "metadata": {},
   "outputs": [],
   "source": []
  }
 ],
 "metadata": {
  "kernelspec": {
   "display_name": "Python 3",
   "language": "python",
   "name": "python3"
  },
  "language_info": {
   "codemirror_mode": {
    "name": "ipython",
    "version": 3
   },
   "file_extension": ".py",
   "mimetype": "text/x-python",
   "name": "python",
   "nbconvert_exporter": "python",
   "pygments_lexer": "ipython3",
   "version": "3.6.7"
  }
 },
 "nbformat": 4,
 "nbformat_minor": 2
}
